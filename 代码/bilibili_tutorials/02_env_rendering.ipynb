{
 "cells": [
  {
   "cell_type": "code",
   "execution_count": 1,
   "metadata": {
    "ExecuteTime": {
     "end_time": "2022-12-06T15:12:34.049707Z",
     "start_time": "2022-12-06T15:12:33.704126Z"
    }
   },
   "outputs": [],
   "source": [
    "import gym\n",
    "import time\n",
    "\n",
    "env_name = 'CartPole-v0'\n",
    "env = gym.make(env_name)\n",
    "\n",
    "state = env.reset()"
   ]
  },
  {
   "cell_type": "markdown",
   "metadata": {},
   "source": [
    "## 1. mode = 'human'"
   ]
  },
  {
   "cell_type": "code",
   "execution_count": 2,
   "metadata": {
    "ExecuteTime": {
     "end_time": "2022-12-06T15:12:39.490610Z",
     "start_time": "2022-12-06T15:12:35.087433Z"
    }
   },
   "outputs": [
    {
     "name": "stdout",
     "output_type": "stream",
     "text": [
      "1\n",
      "1\n",
      "1\n",
      "1\n",
      "1\n",
      "0\n",
      "1\n",
      "1\n",
      "0\n",
      "1\n",
      "0\n",
      "11.0\n"
     ]
    }
   ],
   "source": [
    "done = False\n",
    "total_reward = 0\n",
    "\n",
    "while not done:\n",
    "    env.render(mode='human')\n",
    "    env.render()\n",
    "    action = env.action_space.sample()\n",
    "    print(action)\n",
    "    observation, reward, done, info = env.step(action)\n",
    "    total_reward += reward\n",
    "    time.sleep(0.2)\n",
    "print(total_reward)"
   ]
  },
  {
   "cell_type": "markdown",
   "metadata": {},
   "source": [
    "## 2. render save"
   ]
  },
  {
   "cell_type": "code",
   "execution_count": 5,
   "metadata": {
    "ExecuteTime": {
     "end_time": "2022-12-06T15:17:15.208593Z",
     "start_time": "2022-12-06T15:17:15.204348Z"
    }
   },
   "outputs": [],
   "source": [
    "import gym\n",
    "import time\n",
    "\n",
    "env_name = 'CartPole-v0'\n",
    "env = gym.make(env_name)\n",
    "\n",
    "state = env.reset()"
   ]
  },
  {
   "cell_type": "code",
   "execution_count": 6,
   "metadata": {
    "ExecuteTime": {
     "end_time": "2022-12-06T15:17:26.712342Z",
     "start_time": "2022-12-06T15:17:16.349872Z"
    }
   },
   "outputs": [
    {
     "name": "stdout",
     "output_type": "stream",
     "text": [
      "20.0\n"
     ]
    }
   ],
   "source": [
    "done = False\n",
    "total_reward = 0\n",
    "\n",
    "frames = []\n",
    "while not done:\n",
    "    frames.append(env.render(mode='rgb_array'))\n",
    "    action = env.action_space.sample()\n",
    "    obs, reward, done, info = env.step(action)\n",
    "    total_reward += reward\n",
    "    time.sleep(0.5)\n",
    "env.close()\n",
    "print(total_reward)"
   ]
  },
  {
   "cell_type": "code",
   "execution_count": 7,
   "metadata": {
    "ExecuteTime": {
     "end_time": "2022-12-06T15:17:40.036631Z",
     "start_time": "2022-12-06T15:17:40.025386Z"
    }
   },
   "outputs": [
    {
     "data": {
      "text/plain": [
       "20"
      ]
     },
     "execution_count": 7,
     "metadata": {},
     "output_type": "execute_result"
    }
   ],
   "source": [
    "len(frames)"
   ]
  },
  {
   "cell_type": "code",
   "execution_count": 8,
   "metadata": {
    "ExecuteTime": {
     "end_time": "2022-12-06T15:17:44.826262Z",
     "start_time": "2022-12-06T15:17:44.821711Z"
    }
   },
   "outputs": [
    {
     "data": {
      "text/plain": [
       "(800, 1200, 3)"
      ]
     },
     "execution_count": 8,
     "metadata": {},
     "output_type": "execute_result"
    }
   ],
   "source": [
    "frames[0].shape"
   ]
  },
  {
   "cell_type": "code",
   "execution_count": 9,
   "metadata": {
    "ExecuteTime": {
     "end_time": "2022-12-06T15:18:45.644043Z",
     "start_time": "2022-12-06T15:18:45.399440Z"
    }
   },
   "outputs": [],
   "source": [
    "import matplotlib.pyplot as plt\n",
    "from matplotlib import animation"
   ]
  },
  {
   "cell_type": "code",
   "execution_count": 16,
   "metadata": {
    "ExecuteTime": {
     "end_time": "2022-12-06T15:25:03.128463Z",
     "start_time": "2022-12-06T15:25:03.123683Z"
    }
   },
   "outputs": [],
   "source": [
    "def display_frames_to_video(frames):\n",
    "    plt.figure(figsize=(frames[0].shape[0]/72, frames[0].shape[1]/72), dpi=72)\n",
    "    plt.axis('off')\n",
    "    patch = plt.imshow(frames[0])\n",
    "    \n",
    "#     def animate(i):\n",
    "#         patch.set_data(frames[i])\n",
    "    def animate(frame):\n",
    "        patch.set_data(frame)        \n",
    "    anim = animation.FuncAnimation(plt.gcf(), animate, frames=frames[1:], interval=50)\n",
    "    anim.save('cartpole_2.mp4')\n",
    "    anim.save('cartpole_2.gif', writer='imagemagick')"
   ]
  },
  {
   "cell_type": "code",
   "execution_count": 17,
   "metadata": {
    "ExecuteTime": {
     "end_time": "2022-12-06T15:25:17.295685Z",
     "start_time": "2022-12-06T15:25:04.815212Z"
    }
   },
   "outputs": [
    {
     "data": {
      "image/png": "[encoded data removed]",
      "text/plain": [
       "<Figure size 800x1200 with 1 Axes>"
      ]
     },
     "metadata": {
      "needs_background": "light"
     },
     "output_type": "display_data"
    }
   ],
   "source": [
    "display_frames_to_video(frames)"
   ]
  },
  {
   "cell_type": "code",
   "execution_count": null,
   "metadata": {},
   "outputs": [],
   "source": []
  }
 ],
 "metadata": {
  "kernelspec": {
   "display_name": "Python 3",
   "language": "python",
   "name": "python3"
  },
  "language_info": {
   "codemirror_mode": {
    "name": "ipython",
    "version": 3
   },
   "file_extension": ".py",
   "mimetype": "text/x-python",
   "name": "python",
   "nbconvert_exporter": "python",
   "pygments_lexer": "ipython3",
   "version": "3.6.8"
  }
 },
 "nbformat": 4,
 "nbformat_minor": 2
}

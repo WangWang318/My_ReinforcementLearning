{
 "cells": [
  {
   "cell_type": "markdown",
   "metadata": {},
   "source": [
    "# 一、安装超级马里奥环境\n",
    "\n",
    "```\n",
    "安装最新版本\n",
    "\n",
    "pip install gym-super-mario-bros\n",
    "\n",
    "安装指定版本\n",
    "\n",
    "pip install gym-super-mario-bros-7.3.0\n",
    "\n",
    "```\n"
   ]
  },
  {
   "cell_type": "code",
   "execution_count": 3,
   "metadata": {
    "vscode": {
     "languageId": "python"
    }
   },
   "outputs": [
    {
     "name": "stdout",
     "output_type": "stream",
     "text": [
      "Looking in indexes: http://mirrors.aliyun.com/pypi/simple/\n",
      "Requirement already satisfied: gym-super-mario-bros in d:\\software\\e_anaconda\\envs\\pytorch\\lib\\site-packages (7.3.0)\n",
      "Requirement already satisfied: nes-py>=8.0.0 in d:\\software\\e_anaconda\\envs\\pytorch\\lib\\site-packages (from gym-super-mario-bros) (8.1.8)\n",
      "Requirement already satisfied: tqdm>=4.48.2 in d:\\software\\e_anaconda\\envs\\pytorch\\lib\\site-packages (from nes-py>=8.0.0->gym-super-mario-bros) (4.62.3)\n",
      "Requirement already satisfied: pyglet<=1.5.11,>=1.4.0 in d:\\software\\e_anaconda\\envs\\pytorch\\lib\\site-packages (from nes-py>=8.0.0->gym-super-mario-bros) (1.5.11)\n",
      "Requirement already satisfied: numpy>=1.18.5 in d:\\software\\e_anaconda\\envs\\pytorch\\lib\\site-packages (from nes-py>=8.0.0->gym-super-mario-bros) (1.21.2)\n",
      "Requirement already satisfied: gym>=0.17.2 in d:\\software\\e_anaconda\\envs\\pytorch\\lib\\site-packages (from nes-py>=8.0.0->gym-super-mario-bros) (0.19.0)\n",
      "Requirement already satisfied: cloudpickle<1.7.0,>=1.2.0 in d:\\software\\e_anaconda\\envs\\pytorch\\lib\\site-packages (from gym>=0.17.2->nes-py>=8.0.0->gym-super-mario-bros) (1.6.0)\n",
      "Requirement already satisfied: colorama in d:\\software\\e_anaconda\\envs\\pytorch\\lib\\site-packages (from tqdm>=4.48.2->nes-py>=8.0.0->gym-super-mario-bros) (0.4.4)\n",
      "Note: you may need to restart the kernel to use updated packages.\n"
     ]
    }
   ],
   "source": [
    "pip install gym-super-mario-bros"
   ]
  },
  {
   "cell_type": "markdown",
   "metadata": {},
   "source": [
    "# 二、安装python 版本的 nes 模拟器\n",
    "\n",
    "```\n",
    "pip install nes-py\n",
    "\n",
    "```"
   ]
  },
  {
   "cell_type": "code",
   "execution_count": 4,
   "metadata": {
    "vscode": {
     "languageId": "python"
    }
   },
   "outputs": [
    {
     "name": "stdout",
     "output_type": "stream",
     "text": [
      "Looking in indexes: http://mirrors.aliyun.com/pypi/simple/\n",
      "Requirement already satisfied: nes-py in d:\\software\\e_anaconda\\envs\\pytorch\\lib\\site-packages (8.1.8)\n",
      "Requirement already satisfied: tqdm>=4.48.2 in d:\\software\\e_anaconda\\envs\\pytorch\\lib\\site-packages (from nes-py) (4.62.3)\n",
      "Requirement already satisfied: gym>=0.17.2 in d:\\software\\e_anaconda\\envs\\pytorch\\lib\\site-packages (from nes-py) (0.19.0)\n",
      "Requirement already satisfied: pyglet<=1.5.11,>=1.4.0 in d:\\software\\e_anaconda\\envs\\pytorch\\lib\\site-packages (from nes-py) (1.5.11)\n",
      "Requirement already satisfied: numpy>=1.18.5 in d:\\software\\e_anaconda\\envs\\pytorch\\lib\\site-packages (from nes-py) (1.21.2)\n",
      "Requirement already satisfied: cloudpickle<1.7.0,>=1.2.0 in d:\\software\\e_anaconda\\envs\\pytorch\\lib\\site-packages (from gym>=0.17.2->nes-py) (1.6.0)\n",
      "Requirement already satisfied: colorama in d:\\software\\e_anaconda\\envs\\pytorch\\lib\\site-packages (from tqdm>=4.48.2->nes-py) (0.4.4)\n",
      "Note: you may need to restart the kernel to use updated packages.\n"
     ]
    }
   ],
   "source": [
    "pip install nes-py"
   ]
  }
 ],
 "metadata": {
  "interpreter": {
   "hash": "9465aae7e0ab1403d672807d1a0963d86dbda2f584fbe3054c36cf78311c6c77"
  },
  "kernelspec": {
   "display_name": "RL",
   "language": "python",
   "name": "rl"
  },
  "orig_nbformat": 4
 },
 "nbformat": 4,
 "nbformat_minor": 2
}

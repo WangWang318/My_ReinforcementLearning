{
 "cells": [
  {
   "cell_type": "code",
   "execution_count": 17,
   "metadata": {},
   "outputs": [],
   "source": [
    "import gymnasium as gym\n",
    "env = gym.make('CarRacing-v2', render_mode=\"human\")\n",
    "obs, info = env.reset()\n",
    "\n",
    "for i in range(1000):\n",
    "    action = env.action_space.sample() # agent policy that uses the obs and info\n",
    "    obs, r, terminated, truncated, info = env.step(action)\n",
    "\n",
    "    if terminated or truncated:\n",
    "        obs, info = env.reset()\n",
    "\n",
    "env.close()"
   ]
  },
  {
   "cell_type": "code",
   "execution_count": 18,
   "metadata": {},
   "outputs": [
    {
     "name": "stdout",
     "output_type": "stream",
     "text": [
      "Box([-1.  0.  0.], 1.0, (3,), float32)\n",
      "Box(0, 255, (96, 96, 3), uint8)\n"
     ]
    }
   ],
   "source": [
    "print(env.action_space)\n",
    "print(env.observation_space)\n"
   ]
  },
  {
   "cell_type": "code",
   "execution_count": 20,
   "metadata": {},
   "outputs": [
    {
     "name": "stdout",
     "output_type": "stream",
     "text": [
      "(96, 96, 3)\n",
      "(27648,)\n",
      "27648\n"
     ]
    }
   ],
   "source": [
    "import gymnasium as gym\n",
    "from gymnasium.wrappers import FlattenObservation\n",
    "env = gym.make(\"CarRacing-v2\")\n",
    "print(env.observation_space.shape)\n",
    "env = FlattenObservation(env)\n",
    "print(env.observation_space.shape)\n",
    "print(96*96*3)"
   ]
  },
  {
   "cell_type": "code",
   "execution_count": 27,
   "metadata": {},
   "outputs": [
    {
     "name": "stdout",
     "output_type": "stream",
     "text": [
      "Box(-1.0, 2.0, (2, 3), float32)\n",
      "[[ 1.9909168  1.3377541  1.7167282]\n",
      " [ 0.6715995 -0.8229317  0.7395049]]\n",
      "Box([-1.  1.], [0. 4.], (2,), float32)\n",
      "[-0.9841588  2.7773   ]\n",
      "Box(0.0, 3.0, (1,), float32)\n",
      "[2.4251857]\n"
     ]
    },
    {
     "name": "stderr",
     "output_type": "stream",
     "text": [
      "c:\\ProgramData\\Anaconda3\\envs\\RL\\lib\\site-packages\\gymnasium\\spaces\\box.py:129: UserWarning: \u001b[33mWARN: Box bound precision lowered by casting to float32\u001b[0m\n",
      "  gym.logger.warn(f\"Box bound precision lowered by casting to {self.dtype}\")\n"
     ]
    }
   ],
   "source": [
    "from gymnasium.spaces import Box\n",
    "import numpy as np\n",
    "space_1 = Box(low=-1.0, high=2.0, shape=(2,3), dtype=np.float32)\n",
    "print(space_1)\n",
    "print(space_1.sample())\n",
    "\n",
    "space_2 = Box(low=np.array([-1.0, 1.0]), high=np.array([0.0, 4.0]), dtype=np.float32)\n",
    "print(space_2)\n",
    "print(space_2.sample())\n",
    "\n",
    "space_3 = Box(low=0.0,high=3.0)\n",
    "print(space_3)\n",
    "print(space_3.sample())"
   ]
  },
  {
   "cell_type": "code",
   "execution_count": 35,
   "metadata": {},
   "outputs": [
    {
     "name": "stdout",
     "output_type": "stream",
     "text": [
      "Discrete(2)\n",
      "Discrete(3, start=-2)\n",
      "-1\n"
     ]
    }
   ],
   "source": [
    "from gymnasium.spaces import Discrete\n",
    "space_1 = Discrete(2)\n",
    "print(space_1)\n",
    "space_2 = Discrete(3, start=-2)\n",
    "print(space_2)\n",
    "print(space_2.sample())"
   ]
  },
  {
   "cell_type": "code",
   "execution_count": 37,
   "metadata": {},
   "outputs": [
    {
     "name": "stdout",
     "output_type": "stream",
     "text": [
      "MultiBinary(5)\n",
      "[1 1 0 1 1]\n",
      "[[1 0 1 1 1]\n",
      " [1 0 1 0 0]\n",
      " [0 1 1 0 1]]\n"
     ]
    }
   ],
   "source": [
    "from gymnasium.spaces import MultiBinary\n",
    "space_1 = MultiBinary(5)\n",
    "print(space_1)\n",
    "print(space_1.sample())\n",
    "space_2 = MultiBinary([3,5])\n",
    "print(space_2.sample())"
   ]
  },
  {
   "cell_type": "code",
   "execution_count": 47,
   "metadata": {},
   "outputs": [
    {
     "name": "stdout",
     "output_type": "stream",
     "text": [
      "[0 0 1]\n",
      "[[1 1]\n",
      " [2 3]]\n"
     ]
    }
   ],
   "source": [
    "from gymnasium.spaces import MultiDiscrete\n",
    "space_1 = MultiDiscrete([5,3,3])\n",
    "print(space_1.sample())\n",
    "space_2 = MultiDiscrete(np.array([[2,3],[3, 4]]))\n",
    "print(space_2.sample())"
   ]
  },
  {
   "cell_type": "code",
   "execution_count": 48,
   "metadata": {},
   "outputs": [
    {
     "name": "stdout",
     "output_type": "stream",
     "text": [
      "Text(1, 5, characters=0123456789ABCDEFGHIJKLMNOPQRSTUVWXYZabcdefghijklmnopqrstuvwxyz)\n",
      "YjFNT\n",
      "Text(1, 10, characters=0123456789)\n",
      "436\n"
     ]
    }
   ],
   "source": [
    "from gymnasium.spaces import Text\n",
    "import string\n",
    "space_1 = Text(5)\n",
    "print(space_1)\n",
    "print(space_1.sample())\n",
    "\n",
    "space_2 = Text(min_length=1, max_length=10, charset=string.digits)\n",
    "print(space_2)\n",
    "print(space_2.sample())\n"
   ]
  },
  {
   "cell_type": "code",
   "execution_count": 52,
   "metadata": {},
   "outputs": [
    {
     "name": "stdout",
     "output_type": "stream",
     "text": [
      "Dict('color': Discrete(3), 'position': Box(-1.0, 1.0, (2,), float32))\n",
      "OrderedDict([('color', 0), ('position', array([0.19309135, 0.5977046 ], dtype=float32))])\n"
     ]
    }
   ],
   "source": [
    "# Composite Spaces\n",
    "from gymnasium.spaces import Dict, Box, Discrete\n",
    "space = Dict({\"position\": Box(-1,1,shape=(2,)), \"color\":Discrete(3)})\n",
    "print(space)\n",
    "print(space.sample())"
   ]
  },
  {
   "cell_type": "code",
   "execution_count": 54,
   "metadata": {},
   "outputs": [
    {
     "name": "stdout",
     "output_type": "stream",
     "text": [
      "Graph(Box(-100.0, 100.0, (3,), float32), Discrete(3))\n",
      "GraphInstance(nodes=array([[-81.37034  ,  64.22826  ,  56.43789  ],\n",
      "       [-59.464783 , -74.479126 , -57.83826  ],\n",
      "       [-55.259315 , -21.026602 , -52.232952 ],\n",
      "       [  6.1740503,  -6.3199534,   4.9646454],\n",
      "       [ 43.65353  ,  77.879684 ,   2.9875448],\n",
      "       [-92.17555  ,  18.167559 ,  95.547264 ],\n",
      "       [-96.210945 , -63.4907   , -38.480637 ],\n",
      "       [ 95.61307  , -70.55864  ,  73.789314 ],\n",
      "       [-36.505764 ,  84.08306  ,  46.61411  ],\n",
      "       [ 20.87842  , -52.376415 , -81.9868   ]], dtype=float32), edges=array([0, 1, 0, 1, 0, 0, 0, 0, 2, 0, 0, 1, 1, 2, 0, 1, 1, 2, 1, 0, 1, 1,\n",
      "       0, 0, 0, 2, 0, 0, 2, 0, 2, 2, 2, 2, 1, 0, 2, 0, 0, 1, 2, 0, 2, 0,\n",
      "       2, 0, 0, 1, 2, 1, 1, 2, 2, 0, 0, 2, 1, 1, 1, 1, 0, 1, 2, 0, 2, 2,\n",
      "       1, 2, 1, 1, 2, 1, 0, 0, 0, 2, 1, 0], dtype=int64), edge_links=array([[6, 7],\n",
      "       [7, 5],\n",
      "       [5, 3],\n",
      "       [2, 9],\n",
      "       [5, 9],\n",
      "       [9, 8],\n",
      "       [6, 5],\n",
      "       [4, 9],\n",
      "       [4, 4],\n",
      "       [8, 7],\n",
      "       [2, 6],\n",
      "       [9, 7],\n",
      "       [6, 3],\n",
      "       [7, 6],\n",
      "       [7, 5],\n",
      "       [3, 2],\n",
      "       [6, 5],\n",
      "       [7, 4],\n",
      "       [9, 3],\n",
      "       [6, 8],\n",
      "       [1, 7],\n",
      "       [3, 6],\n",
      "       [0, 3],\n",
      "       [3, 4],\n",
      "       [5, 8],\n",
      "       [0, 4],\n",
      "       [6, 8],\n",
      "       [4, 7],\n",
      "       [8, 4],\n",
      "       [7, 4],\n",
      "       [9, 3],\n",
      "       [0, 6],\n",
      "       [4, 6],\n",
      "       [9, 0],\n",
      "       [1, 2],\n",
      "       [1, 3],\n",
      "       [3, 2],\n",
      "       [1, 9],\n",
      "       [3, 8],\n",
      "       [9, 4],\n",
      "       [8, 4],\n",
      "       [5, 6],\n",
      "       [9, 4],\n",
      "       [6, 2],\n",
      "       [2, 4],\n",
      "       [9, 1],\n",
      "       [4, 7],\n",
      "       [7, 6],\n",
      "       [7, 8],\n",
      "       [5, 7],\n",
      "       [3, 7],\n",
      "       [9, 4],\n",
      "       [9, 1],\n",
      "       [6, 5],\n",
      "       [3, 8],\n",
      "       [3, 9],\n",
      "       [5, 8],\n",
      "       [7, 3],\n",
      "       [8, 9],\n",
      "       [3, 5],\n",
      "       [0, 2],\n",
      "       [1, 3],\n",
      "       [8, 2],\n",
      "       [9, 0],\n",
      "       [5, 3],\n",
      "       [3, 4],\n",
      "       [4, 5],\n",
      "       [2, 7],\n",
      "       [2, 2],\n",
      "       [4, 6],\n",
      "       [5, 4],\n",
      "       [6, 1],\n",
      "       [7, 3],\n",
      "       [4, 0],\n",
      "       [4, 5],\n",
      "       [4, 0],\n",
      "       [5, 4],\n",
      "       [3, 4]], dtype=int64))\n"
     ]
    }
   ],
   "source": [
    "from gymnasium.spaces import Graph, Box, Discrete\n",
    "observation_space = Graph(node_space=Box(low=-100, high=100, shape=(3,)), edge_space=Discrete(3))\n",
    "print(observation_space)\n",
    "print(observation_space.sample())"
   ]
  },
  {
   "cell_type": "code",
   "execution_count": 1,
   "metadata": {},
   "outputs": [
    {
     "ename": "ValueError",
     "evalue": "XML Error: global coordinates no longer supported. To convert existing models, load and save them in MuJoCo 2.3.3 or older\nElement 'compiler', line 2\n",
     "output_type": "error",
     "traceback": [
      "\u001b[1;31m---------------------------------------------------------------------------\u001b[0m",
      "\u001b[1;31mValueError\u001b[0m                                Traceback (most recent call last)",
      "Cell \u001b[1;32mIn[1], line 3\u001b[0m\n\u001b[0;32m      1\u001b[0m \u001b[38;5;28;01mimport\u001b[39;00m \u001b[38;5;21;01mgymnasium\u001b[39;00m \u001b[38;5;28;01mas\u001b[39;00m \u001b[38;5;21;01mgym\u001b[39;00m\n\u001b[0;32m      2\u001b[0m \u001b[38;5;28;01mfrom\u001b[39;00m \u001b[38;5;21;01mgymnasium\u001b[39;00m\u001b[38;5;21;01m.\u001b[39;00m\u001b[38;5;21;01mwrappers\u001b[39;00m \u001b[38;5;28;01mimport\u001b[39;00m ClipAction\n\u001b[1;32m----> 3\u001b[0m env \u001b[38;5;241m=\u001b[39m \u001b[43mgym\u001b[49m\u001b[38;5;241;43m.\u001b[39;49m\u001b[43mmake\u001b[49m\u001b[43m(\u001b[49m\u001b[38;5;124;43m\"\u001b[39;49m\u001b[38;5;124;43mHopper-v4\u001b[39;49m\u001b[38;5;124;43m\"\u001b[39;49m\u001b[43m)\u001b[49m\n\u001b[0;32m      4\u001b[0m env \u001b[38;5;241m=\u001b[39m ClipAction(env)\n\u001b[0;32m      5\u001b[0m \u001b[38;5;28mprint\u001b[39m(env\u001b[38;5;241m.\u001b[39maction_space)\n",
      "File \u001b[1;32mc:\\ProgramData\\Anaconda3\\envs\\RL\\lib\\site-packages\\gymnasium\\envs\\registration.py:642\u001b[0m, in \u001b[0;36mmake\u001b[1;34m(id, max_episode_steps, autoreset, apply_api_compatibility, disable_env_checker, **kwargs)\u001b[0m\n\u001b[0;32m    639\u001b[0m     render_mode \u001b[39m=\u001b[39m \u001b[39mNone\u001b[39;00m\n\u001b[0;32m    641\u001b[0m \u001b[39mtry\u001b[39;00m:\n\u001b[1;32m--> 642\u001b[0m     env \u001b[39m=\u001b[39m env_creator(\u001b[39m*\u001b[39;49m\u001b[39m*\u001b[39;49m_kwargs)\n\u001b[0;32m    643\u001b[0m \u001b[39mexcept\u001b[39;00m \u001b[39mTypeError\u001b[39;00m \u001b[39mas\u001b[39;00m e:\n\u001b[0;32m    644\u001b[0m     \u001b[39mif\u001b[39;00m (\n\u001b[0;32m    645\u001b[0m         \u001b[39mstr\u001b[39m(e)\u001b[39m.\u001b[39mfind(\u001b[39m\"\u001b[39m\u001b[39mgot an unexpected keyword argument \u001b[39m\u001b[39m'\u001b[39m\u001b[39mrender_mode\u001b[39m\u001b[39m'\u001b[39m\u001b[39m\"\u001b[39m) \u001b[39m>\u001b[39m\u001b[39m=\u001b[39m \u001b[39m0\u001b[39m\n\u001b[0;32m    646\u001b[0m         \u001b[39mand\u001b[39;00m apply_human_rendering\n\u001b[0;32m    647\u001b[0m     ):\n",
      "File \u001b[1;32mc:\\ProgramData\\Anaconda3\\envs\\RL\\lib\\site-packages\\gymnasium\\envs\\mujoco\\hopper_v4.py:206\u001b[0m, in \u001b[0;36mHopperEnv.__init__\u001b[1;34m(self, forward_reward_weight, ctrl_cost_weight, healthy_reward, terminate_when_unhealthy, healthy_state_range, healthy_z_range, healthy_angle_range, reset_noise_scale, exclude_current_positions_from_observation, **kwargs)\u001b[0m\n\u001b[0;32m    201\u001b[0m \u001b[39melse\u001b[39;00m:\n\u001b[0;32m    202\u001b[0m     observation_space \u001b[39m=\u001b[39m Box(\n\u001b[0;32m    203\u001b[0m         low\u001b[39m=\u001b[39m\u001b[39m-\u001b[39mnp\u001b[39m.\u001b[39minf, high\u001b[39m=\u001b[39mnp\u001b[39m.\u001b[39minf, shape\u001b[39m=\u001b[39m(\u001b[39m12\u001b[39m,), dtype\u001b[39m=\u001b[39mnp\u001b[39m.\u001b[39mfloat64\n\u001b[0;32m    204\u001b[0m     )\n\u001b[1;32m--> 206\u001b[0m MujocoEnv\u001b[39m.\u001b[39;49m\u001b[39m__init__\u001b[39;49m(\n\u001b[0;32m    207\u001b[0m     \u001b[39mself\u001b[39;49m,\n\u001b[0;32m    208\u001b[0m     \u001b[39m\"\u001b[39;49m\u001b[39mhopper.xml\u001b[39;49m\u001b[39m\"\u001b[39;49m,\n\u001b[0;32m    209\u001b[0m     \u001b[39m4\u001b[39;49m,\n\u001b[0;32m    210\u001b[0m     observation_space\u001b[39m=\u001b[39;49mobservation_space,\n\u001b[0;32m    211\u001b[0m     default_camera_config\u001b[39m=\u001b[39;49mDEFAULT_CAMERA_CONFIG,\n\u001b[0;32m    212\u001b[0m     \u001b[39m*\u001b[39;49m\u001b[39m*\u001b[39;49mkwargs\n\u001b[0;32m    213\u001b[0m )\n",
      "File \u001b[1;32mc:\\ProgramData\\Anaconda3\\envs\\RL\\lib\\site-packages\\gymnasium\\envs\\mujoco\\mujoco_env.py:333\u001b[0m, in \u001b[0;36mMujocoEnv.__init__\u001b[1;34m(self, model_path, frame_skip, observation_space, render_mode, width, height, camera_id, camera_name, default_camera_config)\u001b[0m\n\u001b[0;32m    327\u001b[0m \u001b[39mif\u001b[39;00m MUJOCO_IMPORT_ERROR \u001b[39mis\u001b[39;00m \u001b[39mnot\u001b[39;00m \u001b[39mNone\u001b[39;00m:\n\u001b[0;32m    328\u001b[0m     \u001b[39mraise\u001b[39;00m error\u001b[39m.\u001b[39mDependencyNotInstalled(\n\u001b[0;32m    329\u001b[0m         \u001b[39mf\u001b[39m\u001b[39m\"\u001b[39m\u001b[39m{\u001b[39;00mMUJOCO_IMPORT_ERROR\u001b[39m}\u001b[39;00m\u001b[39m. \u001b[39m\u001b[39m\"\u001b[39m\n\u001b[0;32m    330\u001b[0m         \u001b[39m\"\u001b[39m\u001b[39m(HINT: you need to install mujoco, run `pip install gymnasium[mujoco]`.)\u001b[39m\u001b[39m\"\u001b[39m\n\u001b[0;32m    331\u001b[0m     )\n\u001b[1;32m--> 333\u001b[0m \u001b[39msuper\u001b[39;49m()\u001b[39m.\u001b[39;49m\u001b[39m__init__\u001b[39;49m(\n\u001b[0;32m    334\u001b[0m     model_path,\n\u001b[0;32m    335\u001b[0m     frame_skip,\n\u001b[0;32m    336\u001b[0m     observation_space,\n\u001b[0;32m    337\u001b[0m     render_mode,\n\u001b[0;32m    338\u001b[0m     width,\n\u001b[0;32m    339\u001b[0m     height,\n\u001b[0;32m    340\u001b[0m     camera_id,\n\u001b[0;32m    341\u001b[0m     camera_name,\n\u001b[0;32m    342\u001b[0m )\n\u001b[0;32m    344\u001b[0m \u001b[39mfrom\u001b[39;00m \u001b[39mgymnasium\u001b[39;00m\u001b[39m.\u001b[39;00m\u001b[39menvs\u001b[39;00m\u001b[39m.\u001b[39;00m\u001b[39mmujoco\u001b[39;00m\u001b[39m.\u001b[39;00m\u001b[39mmujoco_rendering\u001b[39;00m \u001b[39mimport\u001b[39;00m MujocoRenderer\n\u001b[0;32m    346\u001b[0m \u001b[39mself\u001b[39m\u001b[39m.\u001b[39mmujoco_renderer \u001b[39m=\u001b[39m MujocoRenderer(\n\u001b[0;32m    347\u001b[0m     \u001b[39mself\u001b[39m\u001b[39m.\u001b[39mmodel, \u001b[39mself\u001b[39m\u001b[39m.\u001b[39mdata, default_camera_config\n\u001b[0;32m    348\u001b[0m )\n",
      "File \u001b[1;32mc:\\ProgramData\\Anaconda3\\envs\\RL\\lib\\site-packages\\gymnasium\\envs\\mujoco\\mujoco_env.py:52\u001b[0m, in \u001b[0;36mBaseMujocoEnv.__init__\u001b[1;34m(self, model_path, frame_skip, observation_space, render_mode, width, height, camera_id, camera_name)\u001b[0m\n\u001b[0;32m     50\u001b[0m \u001b[39mself\u001b[39m\u001b[39m.\u001b[39mwidth \u001b[39m=\u001b[39m width\n\u001b[0;32m     51\u001b[0m \u001b[39mself\u001b[39m\u001b[39m.\u001b[39mheight \u001b[39m=\u001b[39m height\n\u001b[1;32m---> 52\u001b[0m \u001b[39mself\u001b[39;49m\u001b[39m.\u001b[39;49m_initialize_simulation()  \u001b[39m# may use width and height\u001b[39;00m\n\u001b[0;32m     54\u001b[0m \u001b[39mself\u001b[39m\u001b[39m.\u001b[39minit_qpos \u001b[39m=\u001b[39m \u001b[39mself\u001b[39m\u001b[39m.\u001b[39mdata\u001b[39m.\u001b[39mqpos\u001b[39m.\u001b[39mravel()\u001b[39m.\u001b[39mcopy()\n\u001b[0;32m     55\u001b[0m \u001b[39mself\u001b[39m\u001b[39m.\u001b[39minit_qvel \u001b[39m=\u001b[39m \u001b[39mself\u001b[39m\u001b[39m.\u001b[39mdata\u001b[39m.\u001b[39mqvel\u001b[39m.\u001b[39mravel()\u001b[39m.\u001b[39mcopy()\n",
      "File \u001b[1;32mc:\\ProgramData\\Anaconda3\\envs\\RL\\lib\\site-packages\\gymnasium\\envs\\mujoco\\mujoco_env.py:351\u001b[0m, in \u001b[0;36mMujocoEnv._initialize_simulation\u001b[1;34m(self)\u001b[0m\n\u001b[0;32m    350\u001b[0m \u001b[39mdef\u001b[39;00m \u001b[39m_initialize_simulation\u001b[39m(\u001b[39mself\u001b[39m):\n\u001b[1;32m--> 351\u001b[0m     \u001b[39mself\u001b[39m\u001b[39m.\u001b[39mmodel \u001b[39m=\u001b[39m mujoco\u001b[39m.\u001b[39;49mMjModel\u001b[39m.\u001b[39;49mfrom_xml_path(\u001b[39mself\u001b[39;49m\u001b[39m.\u001b[39;49mfullpath)\n\u001b[0;32m    352\u001b[0m     \u001b[39m# MjrContext will copy model.vis.global_.off* to con.off*\u001b[39;00m\n\u001b[0;32m    353\u001b[0m     \u001b[39mself\u001b[39m\u001b[39m.\u001b[39mmodel\u001b[39m.\u001b[39mvis\u001b[39m.\u001b[39mglobal_\u001b[39m.\u001b[39moffwidth \u001b[39m=\u001b[39m \u001b[39mself\u001b[39m\u001b[39m.\u001b[39mwidth\n",
      "\u001b[1;31mValueError\u001b[0m: XML Error: global coordinates no longer supported. To convert existing models, load and save them in MuJoCo 2.3.3 or older\nElement 'compiler', line 2\n"
     ]
    }
   ],
   "source": [
    "import gymnasium as gym\n",
    "from gymnasium.wrappers import ClipAction\n",
    "env = gym.make(\"Hopper-v4\")\n",
    "env = ClipAction(env)\n",
    "print(env.action_space)"
   ]
  }
 ],
 "metadata": {
  "kernelspec": {
   "display_name": "Python 3.8.16 ('RL')",
   "language": "python",
   "name": "python3"
  },
  "language_info": {
   "codemirror_mode": {
    "name": "ipython",
    "version": 3
   },
   "file_extension": ".py",
   "mimetype": "text/x-python",
   "name": "python",
   "nbconvert_exporter": "python",
   "pygments_lexer": "ipython3",
   "version": "3.8.16"
  },
  "orig_nbformat": 4,
  "vscode": {
   "interpreter": {
    "hash": "17680b14d7d9a3bae9c4871fddb2c879681776f38d67c6256fcb9de429c7e820"
   }
  }
 },
 "nbformat": 4,
 "nbformat_minor": 2
}

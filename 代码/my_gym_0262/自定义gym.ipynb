{
 "cells": [
  {
   "cell_type": "code",
   "execution_count": 3,
   "metadata": {},
   "outputs": [],
   "source": [
    "import numpy as np\n",
    "import gym\n",
    "from stable_baselines3.common.env_checker import check_env\n",
    "\n",
    "class GoLeftEnv(gym.Env):\n",
    "    # 支持的render模式,在jupyter中不支持human模式\n",
    "    metadata = {'render.modes':['console']}\n",
    "\n",
    "    def __init__(self) -> None:\n",
    "        super().__init__()\n",
    "\n",
    "        # 初始位置\n",
    "        self.pos = 9\n",
    "\n",
    "        # 动作空间, 这个环境中只有左右两个动作\n",
    "        self.action_space = gym.spaces.Discrete(2)\n",
    "\n",
    "        # 状态空间，一维数轴\n",
    "        self.observation_space = gym.spaces.Box(\n",
    "            low=0,\n",
    "            high=10,\n",
    "            shape=(1,),\n",
    "            dtype = np.float32\n",
    "        )\n",
    "\n",
    "    def reset(self):\n",
    "        # 重置位置\n",
    "        self.pos = 9\n",
    "\n",
    "        # 当前状态\n",
    "        return np.array([self.pos], dtype=np.float32)\n",
    "\n",
    "    def step(self, action):\n",
    "        if action == 0:\n",
    "            self.pos += -1\n",
    "        if action == 1:\n",
    "            self.pos += 1\n",
    "\n",
    "        self.pos = np.clip(self.pos, 0, 10) # 剪裁\n",
    "\n",
    "        # 判断游戏结束\n",
    "        done = self.pos == 0\n",
    "\n",
    "        # 给予reward\n",
    "        reward = 1 if self.pos == 0 else 0\n",
    "\n",
    "        return np.array([self.pos],dtype=np.float32), reward, bool(done), {}\n",
    "\n",
    "    def render(self, mode='console'):\n",
    "        if mode != 'console':\n",
    "            raise NotImplementedError()\n",
    "        print(self.pos)\n",
    "\n",
    "    def close(self):\n",
    "        pass\n",
    "\n",
    "env = GoLeftEnv()\n",
    "\n",
    "check_env(env, warn=True)"
   ]
  },
  {
   "cell_type": "code",
   "execution_count": null,
   "metadata": {},
   "outputs": [],
   "source": [
    "from stable_baselines3 import PPO\n",
    "from stable_baselines3.common.env_util import make_vec_env\n",
    "\n",
    "# 包装环境\n",
    "train_env = make_vec_env(lambda: env, n_envs=1)\n"
   ]
  }
 ],
 "metadata": {
  "kernelspec": {
   "display_name": "Python 3.8.16 ('RL')",
   "language": "python",
   "name": "python3"
  },
  "language_info": {
   "codemirror_mode": {
    "name": "ipython",
    "version": 3
   },
   "file_extension": ".py",
   "mimetype": "text/x-python",
   "name": "python",
   "nbconvert_exporter": "python",
   "pygments_lexer": "ipython3",
   "version": "3.8.16"
  },
  "orig_nbformat": 4,
  "vscode": {
   "interpreter": {
    "hash": "17680b14d7d9a3bae9c4871fddb2c879681776f38d67c6256fcb9de429c7e820"
   }
  }
 },
 "nbformat": 4,
 "nbformat_minor": 2
}

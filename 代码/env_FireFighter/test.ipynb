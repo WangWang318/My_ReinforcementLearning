{
 "cells": [
  {
   "cell_type": "code",
   "execution_count": 1,
   "id": "initial_id",
   "metadata": {
    "collapsed": true,
    "ExecuteTime": {
     "end_time": "2023-09-21T15:13:15.514456100Z",
     "start_time": "2023-09-21T15:13:15.363857800Z"
    }
   },
   "outputs": [
    {
     "data": {
      "text/plain": "array([[0., 0., 0., 0., 0., 0., 0., 0., 0., 0.]])"
     },
     "execution_count": 1,
     "metadata": {},
     "output_type": "execute_result"
    }
   ],
   "source": [
    "import numpy as np\n",
    "\n",
    "np.zeros((1, 10))"
   ]
  },
  {
   "cell_type": "code",
   "execution_count": 16,
   "outputs": [
    {
     "name": "stdout",
     "output_type": "stream",
     "text": [
      "[2 4 6]\n",
      "3\n"
     ]
    },
    {
     "data": {
      "text/plain": "4"
     },
     "execution_count": 16,
     "metadata": {},
     "output_type": "execute_result"
    }
   ],
   "source": [
    "array = np.array([[1,2],[3,4],[6,5]])\n",
    "tmp = array.max(axis=1)\n",
    "print(tmp)\n",
    "print(tmp.size)\n",
    "tmp[1]"
   ],
   "metadata": {
    "collapsed": false,
    "ExecuteTime": {
     "end_time": "2023-09-21T02:44:41.083729800Z",
     "start_time": "2023-09-21T02:44:41.071745500Z"
    }
   },
   "id": "3c20c8358a7379ee"
  },
  {
   "cell_type": "code",
   "execution_count": 18,
   "outputs": [
    {
     "data": {
      "text/plain": "array([[0.5, 0.5],\n       [0.5, 0.5],\n       [0.5, 0.5],\n       [0.5, 0.5],\n       [0.5, 0.5],\n       [0.5, 0.5],\n       [0.5, 0.5],\n       [0.5, 0.5],\n       [0.5, 0.5],\n       [0.5, 0.5]])"
     },
     "execution_count": 18,
     "metadata": {},
     "output_type": "execute_result"
    }
   ],
   "source": [
    "array = np.full((10, 2), 0.5)\n",
    "array"
   ],
   "metadata": {
    "collapsed": false,
    "ExecuteTime": {
     "end_time": "2023-09-21T03:10:31.538387800Z",
     "start_time": "2023-09-21T03:10:31.516491800Z"
    }
   },
   "id": "cb603eaa45d69fab"
  },
  {
   "cell_type": "code",
   "execution_count": 19,
   "outputs": [
    {
     "name": "stdout",
     "output_type": "stream",
     "text": [
      "[[0.98633471 0.01366529]\n",
      " [0.33428283 0.66571717]\n",
      " [0.24548548 0.75451452]\n",
      " [0.50474386 0.49525614]\n",
      " [0.57834392 0.42165608]\n",
      " [0.39043569 0.60956431]\n",
      " [0.67525327 0.32474673]\n",
      " [0.99677874 0.00322126]\n",
      " [0.52810236 0.47189764]\n",
      " [0.75065988 0.24934012]]\n"
     ]
    }
   ],
   "source": [
    "import numpy as np\n",
    "\n",
    "# 创建一个形状为(10, 2)的数组，每一行的两个元素之和为1\n",
    "# 使用随机数填充这些元素\n",
    "array = np.random.rand(10, 2)\n",
    "array /= np.sum(array, axis=1, keepdims=True)\n",
    "\n",
    "# 打印数组\n",
    "print(array)\n"
   ],
   "metadata": {
    "collapsed": false,
    "ExecuteTime": {
     "end_time": "2023-09-21T03:16:09.330267500Z",
     "start_time": "2023-09-21T03:16:09.314285900Z"
    }
   },
   "id": "3e54d99ef61e71a9"
  },
  {
   "cell_type": "code",
   "execution_count": 23,
   "outputs": [
    {
     "data": {
      "text/plain": "-1"
     },
     "execution_count": 23,
     "metadata": {},
     "output_type": "execute_result"
    }
   ],
   "source": [
    "pos = 0\n",
    "tmp = 0 if pos == -1 else -1\n",
    "tmp"
   ],
   "metadata": {
    "collapsed": false,
    "ExecuteTime": {
     "end_time": "2023-09-21T08:31:54.262741300Z",
     "start_time": "2023-09-21T08:31:54.244057800Z"
    }
   },
   "id": "4266590e0100f0e7"
  },
  {
   "cell_type": "code",
   "execution_count": 24,
   "outputs": [
    {
     "name": "stdout",
     "output_type": "stream",
     "text": [
      "[0.54603627 0.45396373]\n",
      "0.5460362700406999\n",
      "0.4539637299593001\n",
      "[0.76015233 0.23984767]\n",
      "0.7601523273518154\n",
      "0.23984767264818463\n",
      "[0.52281579 0.47718421]\n",
      "0.5228157877950657\n",
      "0.47718421220493434\n",
      "[0.70816583 0.29183417]\n",
      "0.7081658311399874\n",
      "0.29183416886001257\n",
      "[0.66225774 0.33774226]\n",
      "0.662257743834375\n",
      "0.33774225616562503\n",
      "[0.18909426 0.81090574]\n",
      "0.18909425892940207\n",
      "0.8109057410705979\n",
      "[0.50548103 0.49451897]\n",
      "0.5054810258335382\n",
      "0.4945189741664618\n",
      "[0.87491495 0.12508505]\n",
      "0.8749149502825382\n",
      "0.12508504971746184\n",
      "[0.41757877 0.58242123]\n",
      "0.41757877462164367\n",
      "0.5824212253783564\n",
      "[0.29066081 0.70933919]\n",
      "0.2906608078991979\n",
      "0.7093391921008022\n"
     ]
    }
   ],
   "source": [
    "array = np.random.rand(10, 2)\n",
    "array /= np.sum(array, axis=1, keepdims=True)\n",
    "for i in range(10):\n",
    "    print(array[i])\n",
    "    print(array[i][0])\n",
    "    print(array[i][1])"
   ],
   "metadata": {
    "collapsed": false,
    "ExecuteTime": {
     "end_time": "2023-09-21T09:21:28.886915800Z",
     "start_time": "2023-09-21T09:21:28.847215300Z"
    }
   },
   "id": "ec87be354037a831"
  },
  {
   "cell_type": "code",
   "execution_count": 3,
   "outputs": [
    {
     "data": {
      "text/plain": "1"
     },
     "execution_count": 3,
     "metadata": {},
     "output_type": "execute_result"
    }
   ],
   "source": [
    "import numpy as np\n",
    "a = 1\n",
    "b = 2\n",
    "np.argmax((a, b))"
   ],
   "metadata": {
    "collapsed": false,
    "ExecuteTime": {
     "end_time": "2023-09-21T15:13:47.813903700Z",
     "start_time": "2023-09-21T15:13:47.749717200Z"
    }
   },
   "id": "ea0c3bf25189f680"
  },
  {
   "cell_type": "code",
   "execution_count": 6,
   "outputs": [
    {
     "name": "stdout",
     "output_type": "stream",
     "text": [
      "1\n"
     ]
    }
   ],
   "source": [
    "tmp_idx = 0\n",
    "else_idx = 0 if tmp_idx == 1 else 1\n",
    "print(else_idx)"
   ],
   "metadata": {
    "collapsed": false,
    "ExecuteTime": {
     "end_time": "2023-09-21T15:16:49.109100200Z",
     "start_time": "2023-09-21T15:16:49.093141600Z"
    }
   },
   "id": "4ebbb3e8dcc63b86"
  },
  {
   "cell_type": "code",
   "execution_count": 11,
   "outputs": [
    {
     "name": "stdout",
     "output_type": "stream",
     "text": [
      "[[0.42707736 0.57292264]\n",
      " [0.84247069 0.15752931]\n",
      " [0.54957039 0.45042961]\n",
      " [0.28638733 0.71361267]\n",
      " [0.50460594 0.49539406]\n",
      " [0.86125681 0.13874319]\n",
      " [0.46505567 0.53494433]\n",
      " [0.39915668 0.60084332]\n",
      " [0.26453348 0.73546652]\n",
      " [0.8159955  0.1840045 ]]\n",
      "[[0.85415471 1.14584529]\n",
      " [1.68494138 0.31505862]\n",
      " [1.09914077 0.90085923]\n",
      " [0.57277467 1.42722533]\n",
      " [1.00921189 0.99078811]\n",
      " [1.72251363 0.27748637]\n",
      " [0.93011134 1.06988866]\n",
      " [0.79831336 1.20168664]\n",
      " [0.52906696 1.47093304]\n",
      " [1.631991   0.368009  ]]\n"
     ]
    }
   ],
   "source": [
    "array = np.random.rand(10, 2)\n",
    "array /= np.sum(array, axis=1, keepdims=True)\n",
    "print(array)\n",
    "array = array + array\n",
    "print(array)"
   ],
   "metadata": {
    "collapsed": false,
    "ExecuteTime": {
     "end_time": "2023-09-21T15:27:26.651333200Z",
     "start_time": "2023-09-21T15:27:26.635799800Z"
    }
   },
   "id": "278d4ce8d612322e"
  },
  {
   "cell_type": "code",
   "execution_count": null,
   "outputs": [],
   "source": [],
   "metadata": {
    "collapsed": false
   },
   "id": "698a024347c9366a"
  }
 ],
 "metadata": {
  "kernelspec": {
   "display_name": "Python 3",
   "language": "python",
   "name": "python3"
  },
  "language_info": {
   "codemirror_mode": {
    "name": "ipython",
    "version": 2
   },
   "file_extension": ".py",
   "mimetype": "text/x-python",
   "name": "python",
   "nbconvert_exporter": "python",
   "pygments_lexer": "ipython2",
   "version": "2.7.6"
  }
 },
 "nbformat": 4,
 "nbformat_minor": 5
}

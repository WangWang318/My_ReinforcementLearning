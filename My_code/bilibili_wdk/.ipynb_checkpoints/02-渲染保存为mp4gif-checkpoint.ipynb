{
 "cells": [
  {
   "cell_type": "code",
   "execution_count": 1,
   "id": "0f12f2ac",
   "metadata": {},
   "outputs": [],
   "source": [
    "import gym\n",
    "import time"
   ]
  },
  {
   "cell_type": "code",
   "execution_count": 2,
   "id": "be9023fb",
   "metadata": {},
   "outputs": [],
   "source": [
    "# https://blog.csdn.net/chenxy_bwave/article/details/122617178\n",
    "\n",
    "# env_name = 'CartPole-v1'\n",
    "# env = gym.make(env_name,render_mode='human')\n",
    "\n",
    "# state = env.reset()\n",
    "# while True:\n",
    "#     # 渲染画面\n",
    "#     # env.render()\n",
    "#     # 从动作空间随机获取一个动作\n",
    "#     action = env.action_space.sample()\n",
    "#     # agent与环境进行一步交互\n",
    "#     state, reward, terminated, truncated, info = env.step(action)\n",
    "#     print('state = {0}; action = {1}; reward = {2}'.format(state, action, reward))\n",
    "#     # 判断当前episode 是否完成\n",
    "#     if terminated:\n",
    "#         print('terminated')\n",
    "#         break\n",
    "#     time.sleep(0.1)\n",
    "# time.sleep(3)\n",
    "# env.close()"
   ]
  },
  {
   "cell_type": "code",
   "execution_count": 3,
   "id": "d3212ff6",
   "metadata": {},
   "outputs": [
    {
     "name": "stderr",
     "output_type": "stream",
     "text": [
      "C:\\ProgramData\\Anaconda3\\envs\\rll\\lib\\site-packages\\gym\\utils\\passive_env_checker.py:233: DeprecationWarning: `np.bool8` is a deprecated alias for `np.bool_`.  (Deprecated NumPy 1.24)\n",
      "  if not isinstance(terminated, (bool, np.bool8)):\n"
     ]
    },
    {
     "name": "stdout",
     "output_type": "stream",
     "text": [
      "terminated\n"
     ]
    }
   ],
   "source": [
    "env_name = 'CartPole-v1'\n",
    "env = gym.make(env_name,render_mode='rgb_array_list')\n",
    "\n",
    "state = env.reset()\n",
    "score = 0\n",
    "# frames = []\n",
    "while True:\n",
    "    # 渲染画面\n",
    "    # env.render()\n",
    "    \n",
    "    # frames.append(env.render())\n",
    "    \n",
    "    # 从动作空间随机获取一个动作\n",
    "    action = env.action_space.sample()\n",
    "    # agent与环境进行一步交互\n",
    "    state, reward, terminated, truncated, info = env.step(action)\n",
    "    # print('state = {0}; action = {1}; reward = {2}'.format(state, action, reward))\n",
    "    # 判断当前episode 是否完成\n",
    "    score += reward\n",
    "    if terminated:\n",
    "        print('terminated')\n",
    "        break\n",
    "    time.sleep(0.1)\n",
    "time.sleep(3)\n",
    "env.close()\n",
    "frames = env.render()"
   ]
  },
  {
   "cell_type": "code",
   "execution_count": 4,
   "id": "b252de65",
   "metadata": {},
   "outputs": [
    {
     "data": {
      "text/plain": [
       "10.0"
      ]
     },
     "execution_count": 4,
     "metadata": {},
     "output_type": "execute_result"
    }
   ],
   "source": [
    "score"
   ]
  },
  {
   "cell_type": "code",
   "execution_count": 5,
   "id": "5e874816",
   "metadata": {},
   "outputs": [],
   "source": [
    "# gym.make??"
   ]
  },
  {
   "cell_type": "code",
   "execution_count": 6,
   "id": "0ec24e32",
   "metadata": {},
   "outputs": [],
   "source": [
    "# env.render?"
   ]
  },
  {
   "cell_type": "code",
   "execution_count": 7,
   "id": "f51f69c5",
   "metadata": {},
   "outputs": [],
   "source": [
    "# env.render??"
   ]
  },
  {
   "cell_type": "code",
   "execution_count": 8,
   "id": "01091f80",
   "metadata": {},
   "outputs": [
    {
     "data": {
      "text/plain": [
       "11"
      ]
     },
     "execution_count": 8,
     "metadata": {},
     "output_type": "execute_result"
    }
   ],
   "source": [
    "len(frames)"
   ]
  },
  {
   "cell_type": "code",
   "execution_count": 9,
   "id": "b3e8d004",
   "metadata": {},
   "outputs": [
    {
     "data": {
      "text/plain": [
       "(400, 600, 3)"
      ]
     },
     "execution_count": 9,
     "metadata": {},
     "output_type": "execute_result"
    }
   ],
   "source": [
    "frames[0].shape"
   ]
  },
  {
   "cell_type": "code",
   "execution_count": 10,
   "id": "12f49428",
   "metadata": {},
   "outputs": [
    {
     "data": {
      "text/plain": [
       "list"
      ]
     },
     "execution_count": 10,
     "metadata": {},
     "output_type": "execute_result"
    }
   ],
   "source": [
    "type(frames)"
   ]
  },
  {
   "cell_type": "code",
   "execution_count": 11,
   "id": "281e5da9",
   "metadata": {},
   "outputs": [
    {
     "data": {
      "text/plain": [
       "(400, 600, 3)"
      ]
     },
     "execution_count": 11,
     "metadata": {},
     "output_type": "execute_result"
    }
   ],
   "source": [
    "frames[1].shape"
   ]
  },
  {
   "cell_type": "code",
   "execution_count": 12,
   "id": "0ec2c5c9",
   "metadata": {},
   "outputs": [],
   "source": [
    "import matplotlib.pyplot as plt\n",
    "from matplotlib import animation"
   ]
  },
  {
   "cell_type": "code",
   "execution_count": 23,
   "id": "823de415",
   "metadata": {},
   "outputs": [],
   "source": [
    "# 将frames输出为视频\n",
    "def display_frames_to_video(frames):\n",
    "    plt.figure(figsize=(frames[0].shape[0]/72, frames[0].shape[1]/72), dpi=72) # 压缩\n",
    "    plt.axis('off')\n",
    "    patch = plt.imshow(frames[0])\n",
    "    \n",
    "    def animate(i):\n",
    "        patch.set_data(frames[i])\n",
    "    \n",
    "    anim = animation.FuncAnimation(plt.gcf(), animate, frames=range(len(frames)), interval=50)\n",
    "    anim.save('cartpole.gif',writer='Pillow')"
   ]
  },
  {
   "cell_type": "code",
   "execution_count": 25,
   "id": "1d9e9603",
   "metadata": {},
   "outputs": [
    {
     "name": "stderr",
     "output_type": "stream",
     "text": [
      "MovieWriter Pillow unavailable; using Pillow instead.\n"
     ]
    },
    {
     "data": {
      "image/png": "[encoded data removed]",
      "text/plain": [
       "<Figure size 400x600 with 1 Axes>"
      ]
     },
     "metadata": {},
     "output_type": "display_data"
    }
   ],
   "source": [
    "display_frames_to_video(frames)"
   ]
  },
  {
   "cell_type": "code",
   "execution_count": null,
   "id": "9de3505c",
   "metadata": {},
   "outputs": [],
   "source": []
  }
 ],
 "metadata": {
  "kernelspec": {
   "display_name": "rll",
   "language": "python",
   "name": "rll"
  },
  "language_info": {
   "codemirror_mode": {
    "name": "ipython",
    "version": 3
   },
   "file_extension": ".py",
   "mimetype": "text/x-python",
   "name": "python",
   "nbconvert_exporter": "python",
   "pygments_lexer": "ipython3",
   "version": "3.9.16"
  }
 },
 "nbformat": 4,
 "nbformat_minor": 5
}

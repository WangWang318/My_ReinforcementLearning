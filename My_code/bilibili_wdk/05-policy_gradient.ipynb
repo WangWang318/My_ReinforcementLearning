{
 "cells": [
  {
   "cell_type": "code",
   "execution_count": 1,
   "id": "9d820ff6",
   "metadata": {},
   "outputs": [],
   "source": [
    "import numpy as np\n",
    "import gym\n",
    "import matplotlib.pyplot as plt"
   ]
  },
  {
   "cell_type": "markdown",
   "id": "27d97825",
   "metadata": {},
   "source": [
    "## basics"
   ]
  },
  {
   "cell_type": "markdown",
   "id": "ca20caa7",
   "metadata": {},
   "source": [
    "- $\\theta$ 与 $\\pi_\\theta(s,a)$（给定 $\\theta$（策略参数） 关于 s, a 的函数），基于 $\\theta$ 找到 $\\pi_\\theta$\n",
    "    - $\\theta$ 是策略参数\n",
    "    - $\\pi_\\theta(s,a)$ 是策略（base $\\theta$，policy)\n",
    "    - $\\pi$ 表示 distribution\n",
    "- 策略迭代（策略梯度，policy gradient）的含义\n",
    "    - $\\theta_0\\rightarrow \\pi_0$, $\\theta_0 \\rightarrow \\theta_1$, $\\theta_1 \\rightarrow \\pi_1$"
   ]
  },
  {
   "cell_type": "markdown",
   "id": "3d0afd0d",
   "metadata": {},
   "source": [
    "## 更新 pi 的计算方式"
   ]
  },
  {
   "cell_type": "code",
   "execution_count": 2,
   "id": "1eb2368b",
   "metadata": {},
   "outputs": [
    {
     "data": {
      "image/png": "[encoded data removed]",
      "text/plain": [
       "<Figure size 500x500 with 1 Axes>"
      ]
     },
     "metadata": {},
     "output_type": "display_data"
    }
   ],
   "source": [
    "fig = plt.figure(figsize=(5, 5))\n",
    "ax = plt.gca()\n",
    "ax.set_xlim(0, 3)\n",
    "ax.set_ylim(0, 3)\n",
    "\n",
    "# plt.plot([1, 1], [0, 1], color='red', linewidth=2)\n",
    "# plt.plot([1, 2], [2, 2], color='red', linewidth=2)\n",
    "# plt.plot([2, 2], [2, 1], color='red', linewidth=2)\n",
    "# plt.plot([2, 3], [1, 1], color='red', linewidth=2)\n",
    "\n",
    "plt.plot([2, 3], [1, 1], color='red', linewidth=2)\n",
    "plt.plot([0, 1], [1, 1], color='red', linewidth=2)\n",
    "plt.plot([1, 1], [1, 2], color='red', linewidth=2)\n",
    "plt.plot([1, 2], [2, 2], color='red', linewidth=2)\n",
    "\n",
    "plt.text(0.5, 2.5, 'S0', size=14, ha='center')\n",
    "plt.text(1.5, 2.5, 'S1', size=14, ha='center')\n",
    "plt.text(2.5, 2.5, 'S2', size=14, ha='center')\n",
    "plt.text(0.5, 1.5, 'S3', size=14, ha='center')\n",
    "plt.text(1.5, 1.5, 'S4', size=14, ha='center')\n",
    "plt.text(2.5, 1.5, 'S5', size=14, ha='center')\n",
    "plt.text(0.5, 0.5, 'S6', size=14, ha='center')\n",
    "plt.text(1.5, 0.5, 'S7', size=14, ha='center')\n",
    "plt.text(2.5, 0.5, 'S8', size=14, ha='center')\n",
    "plt.text(0.5, 2.3, 'START', ha='center')\n",
    "plt.text(2.5, 0.3, 'GOAL', ha='center')\n",
    "# plt.axis('off')\n",
    "plt.tick_params(axis='both', which='both', \n",
    "                bottom=False, top=False, \n",
    "                right=False, left=False,\n",
    "                labelbottom=False, labelleft=False\n",
    "               )\n",
    "line, = ax.plot([0.5], [2.5], marker='o', color='g', markersize=60)"
   ]
  },
  {
   "cell_type": "code",
   "execution_count": 3,
   "id": "cfc38fc7",
   "metadata": {},
   "outputs": [],
   "source": [
    "# border & barrier\n",
    "# ↑, →, ↓, ←（顺时针）\n",
    "# row index: given state\n",
    "# col index: posible action\n",
    "# (state, action) matrix\n",
    "# 跟环境对齐\n",
    "theta_0 = np.asarray([[np.nan, 1, 1, np.nan],      # s0\n",
    "                      [np.nan, 1, np.nan, 1],      # s1\n",
    "                      [np.nan, np.nan, 1, 1],      # s2\n",
    "                      [1, np.nan, np.nan, np.nan], # s3 \n",
    "                      [np.nan, 1, 1, np.nan],      # s4\n",
    "                      [1, np.nan, np.nan, 1],      # s5\n",
    "                      [np.nan, 1, np.nan, np.nan], # s6 \n",
    "                      [1, 1, np.nan, 1]]           # s7\n",
    "                     )"
   ]
  },
  {
   "cell_type": "code",
   "execution_count": 4,
   "id": "d80d5e80",
   "metadata": {},
   "outputs": [],
   "source": [
    "# 基于占比, 最 naive 的概率化方式\n",
    "def cvt_theta_0_to_pi(theta):\n",
    "    m, n = theta.shape\n",
    "    pi = np.zeros((m, n))\n",
    "    for r in range(m):\n",
    "        pi[r, :] = theta[r, :] / np.nansum(theta[r, :])\n",
    "    return np.nan_to_num(pi)"
   ]
  },
  {
   "cell_type": "code",
   "execution_count": 5,
   "id": "38f314ea",
   "metadata": {},
   "outputs": [
    {
     "data": {
      "text/plain": [
       "array([[0.        , 0.5       , 0.5       , 0.        ],\n",
       "       [0.        , 0.5       , 0.        , 0.5       ],\n",
       "       [0.        , 0.        , 0.5       , 0.5       ],\n",
       "       [1.        , 0.        , 0.        , 0.        ],\n",
       "       [0.        , 0.5       , 0.5       , 0.        ],\n",
       "       [0.5       , 0.        , 0.        , 0.5       ],\n",
       "       [0.        , 1.        , 0.        , 0.        ],\n",
       "       [0.33333333, 0.33333333, 0.        , 0.33333333]])"
      ]
     },
     "execution_count": 5,
     "metadata": {},
     "output_type": "execute_result"
    }
   ],
   "source": [
    "cvt_theta_0_to_pi(theta_0)"
   ]
  },
  {
   "cell_type": "markdown",
   "id": "7d17ac30",
   "metadata": {},
   "source": [
    "$$\n",
    "\\begin{split}\n",
    "\\mathbb P_{k} & = \\frac{\\exp(z_k\\cdot \\beta)}{\\sum_i \\exp(z_i\\cdot \\beta)}\\\\\n",
    "&=\\frac{\\exp(\\frac{z_k}T)}{\\sum_i \\exp(\\frac{z_i}T)}=\\frac{\\exp(\\beta\\cdot{z_k})}{\\sum_i \\exp(\\beta\\cdot{z_i})}\n",
    "\\end{split}\n",
    "$$"
   ]
  },
  {
   "cell_type": "code",
   "execution_count": 6,
   "id": "1dd004b4",
   "metadata": {},
   "outputs": [],
   "source": [
    "# 基于 softmax，更 general 的概率化方式\n",
    "def softmax_cvt_theta_0_to_pi(theta, beta=1.0):\n",
    "    m, n = theta.shape\n",
    "    pi = np.zeros((m, n))\n",
    "    exp_theta = np.exp(theta*beta)\n",
    "    for r in range(m):\n",
    "        pi[r, :] = exp_theta[r, :]/np.nansum(exp_theta[r, :])\n",
    "    pi = np.nan_to_num(pi)\n",
    "    return pi"
   ]
  },
  {
   "cell_type": "code",
   "execution_count": 7,
   "id": "fbad6999",
   "metadata": {},
   "outputs": [
    {
     "data": {
      "text/plain": [
       "array([[0.        , 0.5       , 0.5       , 0.        ],\n",
       "       [0.        , 0.5       , 0.        , 0.5       ],\n",
       "       [0.        , 0.        , 0.5       , 0.5       ],\n",
       "       [1.        , 0.        , 0.        , 0.        ],\n",
       "       [0.        , 0.5       , 0.5       , 0.        ],\n",
       "       [0.5       , 0.        , 0.        , 0.5       ],\n",
       "       [0.        , 1.        , 0.        , 0.        ],\n",
       "       [0.33333333, 0.33333333, 0.        , 0.33333333]])"
      ]
     },
     "execution_count": 7,
     "metadata": {},
     "output_type": "execute_result"
    }
   ],
   "source": [
    "softmax_cvt_theta_0_to_pi(theta_0)"
   ]
  },
  {
   "cell_type": "markdown",
   "id": "62848441",
   "metadata": {},
   "source": [
    "## 与环境（Env）交互"
   ]
  },
  {
   "cell_type": "code",
   "execution_count": 8,
   "id": "ae8eb0f8",
   "metadata": {},
   "outputs": [],
   "source": [
    "# 维护着状态，以及 step 函数的返回\n",
    "class MazeEnv(gym.Env):\n",
    "    def __init__(self):\n",
    "        self.state = 0\n",
    "        pass\n",
    "    \n",
    "    def reset(self):\n",
    "        self.state = 0\n",
    "        return self.state\n",
    "    \n",
    "    def step(self, action):\n",
    "        if action == 0:\n",
    "            self.state -= 3\n",
    "        elif action == 1:\n",
    "            self.state += 1\n",
    "        elif action == 2:\n",
    "            self.state += 3\n",
    "        elif action == 3:\n",
    "            self.state -= 1\n",
    "        done = False\n",
    "        if self.state == 8:\n",
    "            done = True\n",
    "        # state, reward, done, _\n",
    "        return self.state, 1, done, {}"
   ]
  },
  {
   "cell_type": "code",
   "execution_count": null,
   "id": "0e348e44",
   "metadata": {},
   "outputs": [],
   "source": [
    "# 动作策略选择，基于当前环境的状态\n",
    "class Agent:\n",
    "    def __init__(self):\n",
    "        self.actions = list(range(4))\n",
    "        self.theta_0 = np.asarray([[np.nan, 1, 1, np.nan],      # s0\n",
    "                      [np.nan, 1, np.nan, 1],      # s1\n",
    "                      [np.nan, np.nan, 1, 1],      # s2\n",
    "                      [1, np.nan, np.nan, np.nan], # s3 \n",
    "                      [np.nan, 1, 1, np.nan],      # s4\n",
    "                      [1, np.nan, np.nan, 1],      # s5\n",
    "                      [np.nan, 1, np.nan, np.nan], # s6 \n",
    "                      [1, 1, np.nan, 1]]           # s7\n",
    "                     )\n",
    "#         self.pi = self._cvt_theta_0_to_pi(self.theta_0)\n",
    "        self.theta = self.theta_0\n",
    "        self.pi = self._softmax_cvt_theta_to_pi()\n",
    "        \n",
    "        self.eta = 0.1\n",
    "        \n",
    "    def _cvt_theta_to_pi(self):\n",
    "        m, n = self.theta.shape\n",
    "        pi = np.zeros((m, n))\n",
    "        for r in range(m):\n",
    "            pi[r, :] = self.theta[r, :] / np.nansum(self.theta[r, :])\n",
    "        return np.nan_to_num(pi)\n",
    "    \n",
    "    def _softmax_cvt_theta_to_pi(self, beta=1.):\n",
    "        m, n = self.theta.shape\n",
    "        pi = np.zeros((m, n))\n",
    "        exp_theta = np.exp(self.theta*beta)\n",
    "        for r in range(m):\n",
    "            pi[r, :] = exp_theta[r, :] / np.nansum(exp_theta[r, :])\n",
    "        return np.nan_to_num(pi)\n",
    "    \n",
    "    def update_theta(self, s_a_history):\n",
    "        T = len(s_a_history) - 1\n",
    "        m, n = self.theta.shape\n",
    "        delta_theta = self.theta.copy()\n",
    "        for i in range(m):\n",
    "            for j in range(n):\n",
    "                if not(np.isnan(self.theta_0[i, j])):\n",
    "                    sa_i = [sa for sa in s_a_history if sa[0] == i]\n",
    "                    sa_ij = [sa for sa in s_a_history if (sa[0] == i and sa[1] == j)]\n",
    "                    N_i = len(sa_i)\n",
    "                    N_ij = len(sa_ij)\n",
    "                    delta_theta[i, j] = (N_ij - self.pi[i, j]*N_i)/T\n",
    "        self.theta = self.theta + self.eta * delta_theta\n",
    "        return self.theta\n",
    "    \n",
    "    def update_pi(self):\n",
    "        self.pi = self._softmax_cvt_theta_to_pi()\n",
    "        return self.pi\n",
    "    \n",
    "    def choose_action(self, state):\n",
    "        # 依概率分布 \\pi_\\theta 选择 action\n",
    "        action = np.random.choice(self.actions, p=self.pi[state, :])\n",
    "        return action"
   ]
  }
 ],
 "metadata": {
  "kernelspec": {
   "display_name": "rll",
   "language": "python",
   "name": "rll"
  },
  "language_info": {
   "codemirror_mode": {
    "name": "ipython",
    "version": 3
   },
   "file_extension": ".py",
   "mimetype": "text/x-python",
   "name": "python",
   "nbconvert_exporter": "python",
   "pygments_lexer": "ipython3",
   "version": "3.9.16"
  }
 },
 "nbformat": 4,
 "nbformat_minor": 5
}

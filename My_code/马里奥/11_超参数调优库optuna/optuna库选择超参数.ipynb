{
 "cells": [
  {
   "cell_type": "markdown",
   "metadata": {},
   "source": [
    "# <div style='color:#fe618e;font-weight:800;'>optuna库选择超参数</div>\n"
   ]
  },
  {
   "cell_type": "code",
   "execution_count": 1,
   "metadata": {},
   "outputs": [
    {
     "name": "stderr",
     "output_type": "stream",
     "text": [
      "c:\\ProgramData\\Anaconda3\\envs\\RL\\lib\\site-packages\\tqdm\\auto.py:21: TqdmWarning: IProgress not found. Please update jupyter and ipywidgets. See https://ipywidgets.readthedocs.io/en/stable/user_install.html\n",
      "  from .autonotebook import tqdm as notebook_tqdm\n"
     ]
    }
   ],
   "source": [
    "from nes_py.wrappers import JoypadSpace\n",
    "import gym_super_mario_bros\n",
    "from gym_super_mario_bros.actions import SIMPLE_MOVEMENT\n",
    "import time\n",
    "from matplotlib import pyplot as plt\n",
    "from gym.wrappers import GrayScaleObservation\n",
    "from stable_baselines3.common.monitor import Monitor\n",
    "from stable_baselines3.common.vec_env import DummyVecEnv\n",
    "from stable_baselines3.common.vec_env import VecFrameStack\n",
    "import os\n",
    "from stable_baselines3 import PPO\n",
    "\n",
    "from stable_baselines3.common.results_plotter import load_results, ts2xy\n",
    "import numpy as np\n",
    "from stable_baselines3.common.callbacks import BaseCallback\n",
    "\n",
    "import optuna\n",
    "from stable_baselines3.common.evaluation import evaluate_policy\n",
    "\n"
   ]
  },
  {
   "cell_type": "code",
   "execution_count": 2,
   "metadata": {},
   "outputs": [],
   "source": [
    "env = gym_super_mario_bros.make('SuperMarioBros-v0')\n",
    "env = JoypadSpace(env, SIMPLE_MOVEMENT)\n",
    "\n",
    "monitor_dir = r'./monitor_log/'\n",
    "os.makedirs(monitor_dir,exist_ok=True)\n",
    "env = Monitor(env,monitor_dir)\n",
    "\n",
    "env = GrayScaleObservation(env,keep_dim=True)\n",
    "env = DummyVecEnv([lambda: env])\n",
    "env = VecFrameStack(env,4,channels_order='last')\n"
   ]
  },
  {
   "cell_type": "code",
   "execution_count": 2,
   "metadata": {},
   "outputs": [],
   "source": [
    "def optimize_ppo(trial): \n",
    "    return {\n",
    "        'n_steps':trial.suggest_int('n_steps', 2048, 8192),\n",
    "        'gamma':trial.suggest_loguniform('gamma', 0.8, 0.9999),\n",
    "        'learning_rate':trial.suggest_loguniform('learning_rate', 1e-5, 1e-4),\n",
    "        'clip_range':trial.suggest_uniform('clip_range', 0.1, 0.4),\n",
    "        'gae_lambda':trial.suggest_uniform('gae_lambda', 0.8, 0.99)\n",
    "    }"
   ]
  },
  {
   "cell_type": "code",
   "execution_count": 4,
   "metadata": {},
   "outputs": [],
   "source": [
    "# from stable_baselines3.common.evaluation import evaluate_policy\n"
   ]
  },
  {
   "cell_type": "code",
   "execution_count": 3,
   "metadata": {},
   "outputs": [],
   "source": [
    "def optimize_function(trial):\n",
    "    \n",
    "    try:\n",
    "        env = gym_super_mario_bros.make('SuperMarioBros-v0')\n",
    "        env = JoypadSpace(env, SIMPLE_MOVEMENT)\n",
    "\n",
    "        monitor_dir = r'./monitor_log/'\n",
    "        os.makedirs(monitor_dir,exist_ok=True)\n",
    "        env = Monitor(env,monitor_dir)\n",
    "\n",
    "        env = GrayScaleObservation(env,keep_dim=True)\n",
    "        env = DummyVecEnv([lambda: env])\n",
    "        env = VecFrameStack(env,4,channels_order='last')\n",
    "\n",
    "\n",
    "        model_params = optimize_ppo(trial) \n",
    "        # model_params = {\n",
    "        #     'n_steps':trial.suggest_int('n_steps', 2048, 8192),\n",
    "        #     'gamma':trial.suggest_loguniform('gamma', 0.8, 0.9999),\n",
    "        #     'learning_rate':trial.suggest_loguniform('learning_rate', 1e-5, 1e-4),\n",
    "        #     'clip_range':trial.suggest_uniform('clip_range', 0.1, 0.4),\n",
    "        #     'gae_lambda':trial.suggest_uniform('gae_lambda', 0.8, 0.99)\n",
    "        # }\n",
    "\n",
    "        tensorboard_log = r'./tensorboard_log/'\n",
    "        model = PPO(\"CnnPolicy\", env, verbose=0,tensorboard_log=tensorboard_log,**model_params)\n",
    "        model.learn(total_timesteps=1000)\n",
    "        # model.learn(total_timesteps=200000)\n",
    "    \n",
    "        # mean_reward, _ = evaluate_policy(model, env, n_eval_episodes=5)\n",
    "        mean_reward, _ = evaluate_policy(model, env,n_eval_episodes=1)\n",
    "    \n",
    "    \n",
    "        env.close()\n",
    "    \n",
    "        save_model_dir = r'F:\\\\RL_Mario1\\\\'\n",
    "        os.makedirs(save_model_dir,exist_ok=True)\n",
    "        SAVE_PATH = os.path.join(save_model_dir, 'trial_{}_best_model'.format(trial.number))\n",
    "        model.save(SAVE_PATH)\n",
    "    \n",
    "        return mean_reward    \n",
    "\n",
    "    except Exception as e:\n",
    "        return -1000\n",
    "    \n",
    "    "
   ]
  },
  {
   "cell_type": "code",
   "execution_count": 6,
   "metadata": {},
   "outputs": [],
   "source": [
    "# import optuna"
   ]
  },
  {
   "cell_type": "code",
   "execution_count": 4,
   "metadata": {},
   "outputs": [
    {
     "name": "stderr",
     "output_type": "stream",
     "text": [
      "\u001b[32m[I 2023-04-22 11:57:33,114]\u001b[0m A new study created in memory with name: no-name-b1a4afdb-5648-4417-a1f1-b34e799c7b30\u001b[0m\n",
      "C:\\Users\\Administrator\\AppData\\Local\\Temp\\ipykernel_14148\\1618903399.py:4: FutureWarning: suggest_loguniform has been deprecated in v3.0.0. This feature will be removed in v6.0.0. See https://github.com/optuna/optuna/releases/tag/v3.0.0. Use :func:`~optuna.trial.Trial.suggest_float` instead.\n",
      "  'gamma':trial.suggest_loguniform('gamma', 0.8, 0.9999),\n",
      "C:\\Users\\Administrator\\AppData\\Local\\Temp\\ipykernel_14148\\1618903399.py:5: FutureWarning: suggest_loguniform has been deprecated in v3.0.0. This feature will be removed in v6.0.0. See https://github.com/optuna/optuna/releases/tag/v3.0.0. Use :func:`~optuna.trial.Trial.suggest_float` instead.\n",
      "  'learning_rate':trial.suggest_loguniform('learning_rate', 1e-5, 1e-4),\n",
      "C:\\Users\\Administrator\\AppData\\Local\\Temp\\ipykernel_14148\\1618903399.py:6: FutureWarning: suggest_uniform has been deprecated in v3.0.0. This feature will be removed in v6.0.0. See https://github.com/optuna/optuna/releases/tag/v3.0.0. Use :func:`~optuna.trial.Trial.suggest_float` instead.\n",
      "  'clip_range':trial.suggest_uniform('clip_range', 0.1, 0.4),\n",
      "C:\\Users\\Administrator\\AppData\\Local\\Temp\\ipykernel_14148\\1618903399.py:7: FutureWarning: suggest_uniform has been deprecated in v3.0.0. This feature will be removed in v6.0.0. See https://github.com/optuna/optuna/releases/tag/v3.0.0. Use :func:`~optuna.trial.Trial.suggest_float` instead.\n",
      "  'gae_lambda':trial.suggest_uniform('gae_lambda', 0.8, 0.99)\n",
      "c:\\ProgramData\\Anaconda3\\envs\\RL\\lib\\site-packages\\stable_baselines3\\ppo\\ppo.py:145: UserWarning: You have specified a mini-batch size of 64, but because the `RolloutBuffer` is of size `n_steps * n_envs = 7555`, after every 118 untruncated mini-batches, there will be a truncated mini-batch of size 3\n",
      "We recommend using a `batch_size` that is a factor of `n_steps * n_envs`.\n",
      "Info: (n_steps=7555 and n_envs=1)\n",
      "  warnings.warn(\n",
      "\u001b[32m[I 2023-04-22 11:59:50,875]\u001b[0m Trial 0 finished with value: -1000.0 and parameters: {'n_steps': 7555, 'gamma': 0.8755316882160081, 'learning_rate': 6.317305306993189e-05, 'clip_range': 0.13613525124152984, 'gae_lambda': 0.9825104568433543}. Best is trial 0 with value: -1000.0.\u001b[0m\n",
      "c:\\ProgramData\\Anaconda3\\envs\\RL\\lib\\site-packages\\stable_baselines3\\ppo\\ppo.py:145: UserWarning: You have specified a mini-batch size of 64, but because the `RolloutBuffer` is of size `n_steps * n_envs = 7368`, after every 115 untruncated mini-batches, there will be a truncated mini-batch of size 8\n",
      "We recommend using a `batch_size` that is a factor of `n_steps * n_envs`.\n",
      "Info: (n_steps=7368 and n_envs=1)\n",
      "  warnings.warn(\n",
      "\u001b[32m[I 2023-04-22 11:59:52,566]\u001b[0m Trial 1 finished with value: -1000.0 and parameters: {'n_steps': 7368, 'gamma': 0.8806599740783687, 'learning_rate': 3.874734046235651e-05, 'clip_range': 0.15114014105421758, 'gae_lambda': 0.9654156757291084}. Best is trial 0 with value: -1000.0.\u001b[0m\n",
      "c:\\ProgramData\\Anaconda3\\envs\\RL\\lib\\site-packages\\stable_baselines3\\ppo\\ppo.py:145: UserWarning: You have specified a mini-batch size of 64, but because the `RolloutBuffer` is of size `n_steps * n_envs = 2979`, after every 46 untruncated mini-batches, there will be a truncated mini-batch of size 35\n",
      "We recommend using a `batch_size` that is a factor of `n_steps * n_envs`.\n",
      "Info: (n_steps=2979 and n_envs=1)\n",
      "  warnings.warn(\n",
      "\u001b[32m[I 2023-04-22 12:02:55,162]\u001b[0m Trial 2 finished with value: -1000.0 and parameters: {'n_steps': 2979, 'gamma': 0.976669409780003, 'learning_rate': 3.9843790633355854e-05, 'clip_range': 0.3710792151445621, 'gae_lambda': 0.9758014414547671}. Best is trial 0 with value: -1000.0.\u001b[0m\n"
     ]
    }
   ],
   "source": [
    "study = optuna.create_study(direction='maximize')\n",
    "# study.optimize(optimize_function, n_trials=100)\n",
    "study.optimize(optimize_function, n_trials=3)"
   ]
  },
  {
   "cell_type": "code",
   "execution_count": 5,
   "metadata": {},
   "outputs": [
    {
     "data": {
      "text/plain": [
       "{'n_steps': 7555,\n",
       " 'gamma': 0.8755316882160081,\n",
       " 'learning_rate': 6.317305306993189e-05,\n",
       " 'clip_range': 0.13613525124152984,\n",
       " 'gae_lambda': 0.9825104568433543}"
      ]
     },
     "execution_count": 5,
     "metadata": {},
     "output_type": "execute_result"
    }
   ],
   "source": [
    "study.best_params"
   ]
  },
  {
   "cell_type": "code",
   "execution_count": 6,
   "metadata": {},
   "outputs": [
    {
     "data": {
      "text/plain": [
       "FrozenTrial(number=0, state=TrialState.COMPLETE, values=[-1000.0], datetime_start=datetime.datetime(2023, 4, 22, 11, 57, 33, 115461), datetime_complete=datetime.datetime(2023, 4, 22, 11, 59, 50, 869852), params={'n_steps': 7555, 'gamma': 0.8755316882160081, 'learning_rate': 6.317305306993189e-05, 'clip_range': 0.13613525124152984, 'gae_lambda': 0.9825104568433543}, user_attrs={}, system_attrs={}, intermediate_values={}, distributions={'n_steps': IntDistribution(high=8192, log=False, low=2048, step=1), 'gamma': FloatDistribution(high=0.9999, log=True, low=0.8, step=None), 'learning_rate': FloatDistribution(high=0.0001, log=True, low=1e-05, step=None), 'clip_range': FloatDistribution(high=0.4, log=False, low=0.1, step=None), 'gae_lambda': FloatDistribution(high=0.99, log=False, low=0.8, step=None)}, trial_id=0, value=None)"
      ]
     },
     "execution_count": 6,
     "metadata": {},
     "output_type": "execute_result"
    }
   ],
   "source": [
    "study.best_trial"
   ]
  }
 ],
 "metadata": {
  "kernelspec": {
   "display_name": "Python 3.8.16 ('RL')",
   "language": "python",
   "name": "python3"
  },
  "language_info": {
   "codemirror_mode": {
    "name": "ipython",
    "version": 3
   },
   "file_extension": ".py",
   "mimetype": "text/x-python",
   "name": "python",
   "nbconvert_exporter": "python",
   "pygments_lexer": "ipython3",
   "version": "3.8.16"
  },
  "orig_nbformat": 4,
  "vscode": {
   "interpreter": {
    "hash": "17680b14d7d9a3bae9c4871fddb2c879681776f38d67c6256fcb9de429c7e820"
   }
  }
 },
 "nbformat": 4,
 "nbformat_minor": 2
}

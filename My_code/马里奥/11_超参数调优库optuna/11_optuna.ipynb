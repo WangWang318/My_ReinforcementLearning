{
 "cells": [
  {
   "cell_type": "markdown",
   "metadata": {},
   "source": [
    "# [optuna](https://optuna.org/)\n",
    "\n",
    "An open source hyperparameter optimization framework to automate hyperparameter search"
   ]
  },
  {
   "cell_type": "code",
   "execution_count": 1,
   "metadata": {},
   "outputs": [
    {
     "name": "stderr",
     "output_type": "stream",
     "text": [
      "c:\\ProgramData\\Anaconda3\\envs\\RL\\lib\\site-packages\\tqdm\\auto.py:21: TqdmWarning: IProgress not found. Please update jupyter and ipywidgets. See https://ipywidgets.readthedocs.io/en/stable/user_install.html\n",
      "  from .autonotebook import tqdm as notebook_tqdm\n",
      "\u001b[32m[I 2023-04-22 11:20:18,973]\u001b[0m A new study created in memory with name: no-name-50c7284a-f0d1-479c-b4d2-5aad8194bd73\u001b[0m\n",
      "\u001b[32m[I 2023-04-22 11:20:18,975]\u001b[0m Trial 0 finished with value: 104.53832629377996 and parameters: {'x': -8.22439857858544}. Best is trial 0 with value: 104.53832629377996.\u001b[0m\n",
      "\u001b[32m[I 2023-04-22 11:20:18,976]\u001b[0m Trial 1 finished with value: 29.301615717531867 and parameters: {'x': -3.41309668466506}. Best is trial 1 with value: 29.301615717531867.\u001b[0m\n",
      "\u001b[32m[I 2023-04-22 11:20:18,976]\u001b[0m Trial 2 finished with value: 34.39234048643106 and parameters: {'x': 7.86449831498237}. Best is trial 1 with value: 29.301615717531867.\u001b[0m\n",
      "\u001b[32m[I 2023-04-22 11:20:18,977]\u001b[0m Trial 3 finished with value: 8.333481145942354 and parameters: {'x': -0.8867769477294836}. Best is trial 3 with value: 8.333481145942354.\u001b[0m\n",
      "\u001b[32m[I 2023-04-22 11:20:18,978]\u001b[0m Trial 4 finished with value: 13.23798957230374 and parameters: {'x': -1.6384048114941443}. Best is trial 3 with value: 8.333481145942354.\u001b[0m\n",
      "\u001b[32m[I 2023-04-22 11:20:18,979]\u001b[0m Trial 5 finished with value: 0.8665558322778428 and parameters: {'x': 2.9308898067321625}. Best is trial 5 with value: 0.8665558322778428.\u001b[0m\n",
      "\u001b[32m[I 2023-04-22 11:20:18,980]\u001b[0m Trial 6 finished with value: 22.241371249500173 and parameters: {'x': -2.716075831610447}. Best is trial 5 with value: 0.8665558322778428.\u001b[0m\n",
      "\u001b[32m[I 2023-04-22 11:20:18,982]\u001b[0m Trial 7 finished with value: 33.954887480884466 and parameters: {'x': -3.8270822442183245}. Best is trial 5 with value: 0.8665558322778428.\u001b[0m\n",
      "\u001b[32m[I 2023-04-22 11:20:18,982]\u001b[0m Trial 8 finished with value: 4.821794753662546 and parameters: {'x': 4.195858545913772}. Best is trial 5 with value: 0.8665558322778428.\u001b[0m\n",
      "\u001b[32m[I 2023-04-22 11:20:18,983]\u001b[0m Trial 9 finished with value: 0.8836254818120076 and parameters: {'x': 2.940013554057604}. Best is trial 5 with value: 0.8665558322778428.\u001b[0m\n",
      "\u001b[32m[I 2023-04-22 11:20:19,038]\u001b[0m Trial 10 finished with value: 61.3544918461389 and parameters: {'x': 9.832910815663542}. Best is trial 5 with value: 0.8665558322778428.\u001b[0m\n",
      "\u001b[32m[I 2023-04-22 11:20:19,043]\u001b[0m Trial 11 finished with value: 2.027580588357467 and parameters: {'x': 3.42393138470836}. Best is trial 5 with value: 0.8665558322778428.\u001b[0m\n",
      "\u001b[32m[I 2023-04-22 11:20:19,047]\u001b[0m Trial 12 finished with value: 1.1859570880331456 and parameters: {'x': 3.0890165692188276}. Best is trial 5 with value: 0.8665558322778428.\u001b[0m\n",
      "\u001b[32m[I 2023-04-22 11:20:19,051]\u001b[0m Trial 13 finished with value: 0.8589780302480486 and parameters: {'x': 1.0731893234063126}. Best is trial 13 with value: 0.8589780302480486.\u001b[0m\n",
      "\u001b[32m[I 2023-04-22 11:20:19,055]\u001b[0m Trial 14 finished with value: 1.0327575249986074 and parameters: {'x': 0.9837532164879401}. Best is trial 13 with value: 0.8589780302480486.\u001b[0m\n",
      "\u001b[32m[I 2023-04-22 11:20:19,060]\u001b[0m Trial 15 finished with value: 23.72765436759854 and parameters: {'x': 6.871104019377798}. Best is trial 13 with value: 0.8589780302480486.\u001b[0m\n",
      "\u001b[32m[I 2023-04-22 11:20:19,065]\u001b[0m Trial 16 finished with value: 0.8717456344247181 and parameters: {'x': 1.0663268053410133}. Best is trial 13 with value: 0.8589780302480486.\u001b[0m\n",
      "\u001b[32m[I 2023-04-22 11:20:19,070]\u001b[0m Trial 17 finished with value: 10.438868287919934 and parameters: {'x': 5.230923751486552}. Best is trial 13 with value: 0.8589780302480486.\u001b[0m\n",
      "\u001b[32m[I 2023-04-22 11:20:19,076]\u001b[0m Trial 18 finished with value: 0.17844890497288865 and parameters: {'x': 1.577567869388598}. Best is trial 18 with value: 0.17844890497288865.\u001b[0m\n",
      "\u001b[32m[I 2023-04-22 11:20:19,080]\u001b[0m Trial 19 finished with value: 2.197503731142908 and parameters: {'x': 0.5176020334799065}. Best is trial 18 with value: 0.17844890497288865.\u001b[0m\n",
      "\u001b[32m[I 2023-04-22 11:20:19,084]\u001b[0m Trial 20 finished with value: 52.19218860980207 and parameters: {'x': -5.22441614317739}. Best is trial 18 with value: 0.17844890497288865.\u001b[0m\n",
      "\u001b[32m[I 2023-04-22 11:20:19,090]\u001b[0m Trial 21 finished with value: 0.03267863246663943 and parameters: {'x': 2.1807723221808013}. Best is trial 21 with value: 0.03267863246663943.\u001b[0m\n",
      "\u001b[32m[I 2023-04-22 11:20:19,095]\u001b[0m Trial 22 finished with value: 0.42537275871400687 and parameters: {'x': 1.3477939292570125}. Best is trial 21 with value: 0.03267863246663943.\u001b[0m\n",
      "\u001b[32m[I 2023-04-22 11:20:19,101]\u001b[0m Trial 23 finished with value: 7.152130472346286 and parameters: {'x': -0.6743467374942775}. Best is trial 21 with value: 0.03267863246663943.\u001b[0m\n",
      "\u001b[32m[I 2023-04-22 11:20:19,108]\u001b[0m Trial 24 finished with value: 0.2804891323525143 and parameters: {'x': 1.470387752829946}. Best is trial 21 with value: 0.03267863246663943.\u001b[0m\n",
      "\u001b[32m[I 2023-04-22 11:20:19,114]\u001b[0m Trial 25 finished with value: 8.500617838075637 and parameters: {'x': 4.915581903853095}. Best is trial 21 with value: 0.03267863246663943.\u001b[0m\n",
      "\u001b[32m[I 2023-04-22 11:20:19,119]\u001b[0m Trial 26 finished with value: 0.09533071821330304 and parameters: {'x': 1.6912432701732592}. Best is trial 21 with value: 0.03267863246663943.\u001b[0m\n",
      "\u001b[32m[I 2023-04-22 11:20:19,127]\u001b[0m Trial 27 finished with value: 8.349325003548055 and parameters: {'x': -0.8895198569222629}. Best is trial 21 with value: 0.03267863246663943.\u001b[0m\n",
      "\u001b[32m[I 2023-04-22 11:20:19,132]\u001b[0m Trial 28 finished with value: 0.16416076398167168 and parameters: {'x': 2.4051675751854678}. Best is trial 21 with value: 0.03267863246663943.\u001b[0m\n",
      "\u001b[32m[I 2023-04-22 11:20:19,137]\u001b[0m Trial 29 finished with value: 15.105152916967288 and parameters: {'x': 5.886534821272966}. Best is trial 21 with value: 0.03267863246663943.\u001b[0m\n",
      "\u001b[32m[I 2023-04-22 11:20:19,142]\u001b[0m Trial 30 finished with value: 105.25107443512955 and parameters: {'x': -8.259194628972079}. Best is trial 21 with value: 0.03267863246663943.\u001b[0m\n",
      "\u001b[32m[I 2023-04-22 11:20:19,147]\u001b[0m Trial 31 finished with value: 0.10262854643741343 and parameters: {'x': 2.3203569047756165}. Best is trial 21 with value: 0.03267863246663943.\u001b[0m\n",
      "\u001b[32m[I 2023-04-22 11:20:19,153]\u001b[0m Trial 32 finished with value: 3.316026251773679 and parameters: {'x': 3.8209959505099618}. Best is trial 21 with value: 0.03267863246663943.\u001b[0m\n",
      "\u001b[32m[I 2023-04-22 11:20:19,158]\u001b[0m Trial 33 finished with value: 0.08052555497100115 and parameters: {'x': 2.283770250327622}. Best is trial 21 with value: 0.03267863246663943.\u001b[0m\n",
      "\u001b[32m[I 2023-04-22 11:20:19,163]\u001b[0m Trial 34 finished with value: 4.508814513912167 and parameters: {'x': -0.12339692801703173}. Best is trial 21 with value: 0.03267863246663943.\u001b[0m\n",
      "\u001b[32m[I 2023-04-22 11:20:19,168]\u001b[0m Trial 35 finished with value: 4.3974583087812205 and parameters: {'x': 4.097011756948735}. Best is trial 21 with value: 0.03267863246663943.\u001b[0m\n",
      "\u001b[32m[I 2023-04-22 11:20:19,174]\u001b[0m Trial 36 finished with value: 0.34596630314154403 and parameters: {'x': 2.5881890029076913}. Best is trial 21 with value: 0.03267863246663943.\u001b[0m\n",
      "\u001b[32m[I 2023-04-22 11:20:19,179]\u001b[0m Trial 37 finished with value: 3.8475183445332872 and parameters: {'x': 0.03849079927386345}. Best is trial 21 with value: 0.03267863246663943.\u001b[0m\n",
      "\u001b[32m[I 2023-04-22 11:20:19,185]\u001b[0m Trial 38 finished with value: 5.346389250414041e-05 and parameters: {'x': 2.0073119007449596}. Best is trial 38 with value: 5.346389250414041e-05.\u001b[0m\n",
      "\u001b[32m[I 2023-04-22 11:20:19,190]\u001b[0m Trial 39 finished with value: 13.635594718057366 and parameters: {'x': -1.6926406158814544}. Best is trial 38 with value: 5.346389250414041e-05.\u001b[0m\n",
      "\u001b[32m[I 2023-04-22 11:20:19,196]\u001b[0m Trial 40 finished with value: 8.146726173512546 and parameters: {'x': 4.854247041430112}. Best is trial 38 with value: 5.346389250414041e-05.\u001b[0m\n",
      "\u001b[32m[I 2023-04-22 11:20:19,201]\u001b[0m Trial 41 finished with value: 0.17916566329234365 and parameters: {'x': 1.5767203485964112}. Best is trial 38 with value: 5.346389250414041e-05.\u001b[0m\n",
      "\u001b[32m[I 2023-04-22 11:20:19,207]\u001b[0m Trial 42 finished with value: 0.923584047437596 and parameters: {'x': 2.961032802477416}. Best is trial 38 with value: 5.346389250414041e-05.\u001b[0m\n",
      "\u001b[32m[I 2023-04-22 11:20:19,213]\u001b[0m Trial 43 finished with value: 0.02205027017818771 and parameters: {'x': 2.1484933337836676}. Best is trial 38 with value: 5.346389250414041e-05.\u001b[0m\n",
      "\u001b[32m[I 2023-04-22 11:20:19,218]\u001b[0m Trial 44 finished with value: 0.005258765495526755 and parameters: {'x': 2.0725173461699113}. Best is trial 38 with value: 5.346389250414041e-05.\u001b[0m\n",
      "\u001b[32m[I 2023-04-22 11:20:19,224]\u001b[0m Trial 45 finished with value: 3.4792444258929835 and parameters: {'x': 0.1347267154936831}. Best is trial 38 with value: 5.346389250414041e-05.\u001b[0m\n",
      "\u001b[32m[I 2023-04-22 11:20:19,230]\u001b[0m Trial 46 finished with value: 2.349913052263188 and parameters: {'x': 3.532942612188463}. Best is trial 38 with value: 5.346389250414041e-05.\u001b[0m\n",
      "\u001b[32m[I 2023-04-22 11:20:19,235]\u001b[0m Trial 47 finished with value: 0.06522060521859954 and parameters: {'x': 2.255383251640744}. Best is trial 38 with value: 5.346389250414041e-05.\u001b[0m\n",
      "\u001b[32m[I 2023-04-22 11:20:19,241]\u001b[0m Trial 48 finished with value: 4.671494147382971 and parameters: {'x': 4.16136395532612}. Best is trial 38 with value: 5.346389250414041e-05.\u001b[0m\n",
      "\u001b[32m[I 2023-04-22 11:20:19,246]\u001b[0m Trial 49 finished with value: 1.944171958271369 and parameters: {'x': 0.6056643308473497}. Best is trial 38 with value: 5.346389250414041e-05.\u001b[0m\n",
      "\u001b[32m[I 2023-04-22 11:20:19,251]\u001b[0m Trial 50 finished with value: 2.802001847582521 and parameters: {'x': 3.6739181125677924}. Best is trial 38 with value: 5.346389250414041e-05.\u001b[0m\n",
      "\u001b[32m[I 2023-04-22 11:20:19,257]\u001b[0m Trial 51 finished with value: 6.631589868973104e-07 and parameters: {'x': 2.0008143457416216}. Best is trial 51 with value: 6.631589868973104e-07.\u001b[0m\n",
      "\u001b[32m[I 2023-04-22 11:20:19,264]\u001b[0m Trial 52 finished with value: 0.9231227670104952 and parameters: {'x': 2.960792780473758}. Best is trial 51 with value: 6.631589868973104e-07.\u001b[0m\n",
      "\u001b[32m[I 2023-04-22 11:20:19,270]\u001b[0m Trial 53 finished with value: 0.002630907651611488 and parameters: {'x': 2.051292374205251}. Best is trial 51 with value: 6.631589868973104e-07.\u001b[0m\n",
      "\u001b[32m[I 2023-04-22 11:20:19,275]\u001b[0m Trial 54 finished with value: 2.114444834512028 and parameters: {'x': 0.5458869251285758}. Best is trial 51 with value: 6.631589868973104e-07.\u001b[0m\n",
      "\u001b[32m[I 2023-04-22 11:20:19,281]\u001b[0m Trial 55 finished with value: 0.026470407132814327 and parameters: {'x': 2.1626972868022523}. Best is trial 51 with value: 6.631589868973104e-07.\u001b[0m\n",
      "\u001b[32m[I 2023-04-22 11:20:19,286]\u001b[0m Trial 56 finished with value: 1.3367245583754659 and parameters: {'x': 3.156168049366296}. Best is trial 51 with value: 6.631589868973104e-07.\u001b[0m\n",
      "\u001b[32m[I 2023-04-22 11:20:19,292]\u001b[0m Trial 57 finished with value: 0.814443898106831 and parameters: {'x': 1.0975345446462612}. Best is trial 51 with value: 6.631589868973104e-07.\u001b[0m\n",
      "\u001b[32m[I 2023-04-22 11:20:19,299]\u001b[0m Trial 58 finished with value: 0.07266726638981415 and parameters: {'x': 1.7304313327001557}. Best is trial 51 with value: 6.631589868973104e-07.\u001b[0m\n",
      "\u001b[32m[I 2023-04-22 11:20:19,304]\u001b[0m Trial 59 finished with value: 5.396081048621421 and parameters: {'x': 4.32294663060119}. Best is trial 51 with value: 6.631589868973104e-07.\u001b[0m\n",
      "\u001b[32m[I 2023-04-22 11:20:19,309]\u001b[0m Trial 60 finished with value: 1.6858307789963016 and parameters: {'x': 3.2983954632531267}. Best is trial 51 with value: 6.631589868973104e-07.\u001b[0m\n",
      "\u001b[32m[I 2023-04-22 11:20:19,315]\u001b[0m Trial 61 finished with value: 0.0005755209488325382 and parameters: {'x': 1.976009982308624}. Best is trial 51 with value: 6.631589868973104e-07.\u001b[0m\n",
      "\u001b[32m[I 2023-04-22 11:20:19,321]\u001b[0m Trial 62 finished with value: 0.0006749790545806697 and parameters: {'x': 2.025980359015623}. Best is trial 51 with value: 6.631589868973104e-07.\u001b[0m\n",
      "\u001b[32m[I 2023-04-22 11:20:19,326]\u001b[0m Trial 63 finished with value: 2.0318525047793528 and parameters: {'x': 0.5745693616386125}. Best is trial 51 with value: 6.631589868973104e-07.\u001b[0m\n",
      "\u001b[32m[I 2023-04-22 11:20:19,332]\u001b[0m Trial 64 finished with value: 0.8246740702889795 and parameters: {'x': 1.0918843298957013}. Best is trial 51 with value: 6.631589868973104e-07.\u001b[0m\n",
      "\u001b[32m[I 2023-04-22 11:20:19,337]\u001b[0m Trial 65 finished with value: 0.6703049267442233 and parameters: {'x': 2.8187215196537974}. Best is trial 51 with value: 6.631589868973104e-07.\u001b[0m\n",
      "\u001b[32m[I 2023-04-22 11:20:19,342]\u001b[0m Trial 66 finished with value: 5.75152487325274 and parameters: {'x': -0.3982336986317119}. Best is trial 51 with value: 6.631589868973104e-07.\u001b[0m\n",
      "\u001b[32m[I 2023-04-22 11:20:19,348]\u001b[0m Trial 67 finished with value: 0.03394302123062451 and parameters: {'x': 1.815763681021834}. Best is trial 51 with value: 6.631589868973104e-07.\u001b[0m\n",
      "\u001b[32m[I 2023-04-22 11:20:19,353]\u001b[0m Trial 68 finished with value: 1.2287146525978196 and parameters: {'x': 0.8915259801881599}. Best is trial 51 with value: 6.631589868973104e-07.\u001b[0m\n",
      "\u001b[32m[I 2023-04-22 11:20:19,359]\u001b[0m Trial 69 finished with value: 0.023393895486676728 and parameters: {'x': 1.8470493691197165}. Best is trial 51 with value: 6.631589868973104e-07.\u001b[0m\n",
      "\u001b[32m[I 2023-04-22 11:20:19,364]\u001b[0m Trial 70 finished with value: 2.4199677642235167 and parameters: {'x': 3.5556245576049244}. Best is trial 51 with value: 6.631589868973104e-07.\u001b[0m\n",
      "\u001b[32m[I 2023-04-22 11:20:19,370]\u001b[0m Trial 71 finished with value: 0.011756515872896797 and parameters: {'x': 1.8915725317417362}. Best is trial 51 with value: 6.631589868973104e-07.\u001b[0m\n",
      "\u001b[32m[I 2023-04-22 11:20:19,384]\u001b[0m Trial 72 finished with value: 0.2952340218379161 and parameters: {'x': 2.5433544164152124}. Best is trial 51 with value: 6.631589868973104e-07.\u001b[0m\n",
      "\u001b[32m[I 2023-04-22 11:20:19,391]\u001b[0m Trial 73 finished with value: 0.0652408318463408 and parameters: {'x': 1.74457715089221}. Best is trial 51 with value: 6.631589868973104e-07.\u001b[0m\n",
      "\u001b[32m[I 2023-04-22 11:20:19,398]\u001b[0m Trial 74 finished with value: 0.3958703825774755 and parameters: {'x': 1.370817687329439}. Best is trial 51 with value: 6.631589868973104e-07.\u001b[0m\n",
      "\u001b[32m[I 2023-04-22 11:20:19,406]\u001b[0m Trial 75 finished with value: 0.50970457594796 and parameters: {'x': 2.713935974683977}. Best is trial 51 with value: 6.631589868973104e-07.\u001b[0m\n",
      "\u001b[32m[I 2023-04-22 11:20:19,411]\u001b[0m Trial 76 finished with value: 2.83651986613161 and parameters: {'x': 0.315802901637813}. Best is trial 51 with value: 6.631589868973104e-07.\u001b[0m\n",
      "\u001b[32m[I 2023-04-22 11:20:19,417]\u001b[0m Trial 77 finished with value: 0.8558536156186024 and parameters: {'x': 1.074876432243453}. Best is trial 51 with value: 6.631589868973104e-07.\u001b[0m\n",
      "\u001b[32m[I 2023-04-22 11:20:19,422]\u001b[0m Trial 78 finished with value: 8.455706741469628 and parameters: {'x': -0.9078697944491301}. Best is trial 51 with value: 6.631589868973104e-07.\u001b[0m\n",
      "\u001b[32m[I 2023-04-22 11:20:19,429]\u001b[0m Trial 79 finished with value: 1.6128991079876907 and parameters: {'x': 3.269999648814003}. Best is trial 51 with value: 6.631589868973104e-07.\u001b[0m\n",
      "\u001b[32m[I 2023-04-22 11:20:19,435]\u001b[0m Trial 80 finished with value: 5.947626107408041 and parameters: {'x': 4.438775534445112}. Best is trial 51 with value: 6.631589868973104e-07.\u001b[0m\n",
      "\u001b[32m[I 2023-04-22 11:20:19,441]\u001b[0m Trial 81 finished with value: 0.0033643177491055045 and parameters: {'x': 2.058002739151746}. Best is trial 51 with value: 6.631589868973104e-07.\u001b[0m\n",
      "\u001b[32m[I 2023-04-22 11:20:19,448]\u001b[0m Trial 82 finished with value: 0.011558395591494738 and parameters: {'x': 2.1075099790321565}. Best is trial 51 with value: 6.631589868973104e-07.\u001b[0m\n",
      "\u001b[32m[I 2023-04-22 11:20:19,453]\u001b[0m Trial 83 finished with value: 0.2717385082565022 and parameters: {'x': 2.5212854383699033}. Best is trial 51 with value: 6.631589868973104e-07.\u001b[0m\n",
      "\u001b[32m[I 2023-04-22 11:20:19,459]\u001b[0m Trial 84 finished with value: 0.00683494589243006 and parameters: {'x': 1.9173262684256356}. Best is trial 51 with value: 6.631589868973104e-07.\u001b[0m\n",
      "\u001b[32m[I 2023-04-22 11:20:19,465]\u001b[0m Trial 85 finished with value: 0.3051261248892756 and parameters: {'x': 1.4476177728336332}. Best is trial 51 with value: 6.631589868973104e-07.\u001b[0m\n",
      "\u001b[32m[I 2023-04-22 11:20:19,470]\u001b[0m Trial 86 finished with value: 3.5904572940646267 and parameters: {'x': 3.894850203595162}. Best is trial 51 with value: 6.631589868973104e-07.\u001b[0m\n",
      "\u001b[32m[I 2023-04-22 11:20:19,476]\u001b[0m Trial 87 finished with value: 0.6590913747187332 and parameters: {'x': 2.811844427657623}. Best is trial 51 with value: 6.631589868973104e-07.\u001b[0m\n",
      "\u001b[32m[I 2023-04-22 11:20:19,481]\u001b[0m Trial 88 finished with value: 4.141464808293367 and parameters: {'x': -0.03505892010363354}. Best is trial 51 with value: 6.631589868973104e-07.\u001b[0m\n",
      "\u001b[32m[I 2023-04-22 11:20:19,487]\u001b[0m Trial 89 finished with value: 1.423187020176834 and parameters: {'x': 0.8070259767384564}. Best is trial 51 with value: 6.631589868973104e-07.\u001b[0m\n",
      "\u001b[32m[I 2023-04-22 11:20:19,493]\u001b[0m Trial 90 finished with value: 0.00055158290111364 and parameters: {'x': 1.97651419788226}. Best is trial 51 with value: 6.631589868973104e-07.\u001b[0m\n",
      "\u001b[32m[I 2023-04-22 11:20:19,498]\u001b[0m Trial 91 finished with value: 0.06875248939481239 and parameters: {'x': 2.2622069590892133}. Best is trial 51 with value: 6.631589868973104e-07.\u001b[0m\n",
      "\u001b[32m[I 2023-04-22 11:20:19,504]\u001b[0m Trial 92 finished with value: 0.46938365979636343 and parameters: {'x': 1.3148841997177678}. Best is trial 51 with value: 6.631589868973104e-07.\u001b[0m\n",
      "\u001b[32m[I 2023-04-22 11:20:19,511]\u001b[0m Trial 93 finished with value: 1.878387310511209 and parameters: {'x': 3.3705427065623343}. Best is trial 51 with value: 6.631589868973104e-07.\u001b[0m\n",
      "\u001b[32m[I 2023-04-22 11:20:19,517]\u001b[0m Trial 94 finished with value: 0.002785292368734678 and parameters: {'x': 2.05277586918976}. Best is trial 51 with value: 6.631589868973104e-07.\u001b[0m\n",
      "\u001b[32m[I 2023-04-22 11:20:19,522]\u001b[0m Trial 95 finished with value: 0.747002543433413 and parameters: {'x': 2.8642930888497333}. Best is trial 51 with value: 6.631589868973104e-07.\u001b[0m\n",
      "\u001b[32m[I 2023-04-22 11:20:19,528]\u001b[0m Trial 96 finished with value: 1.6497972907697327 and parameters: {'x': 0.7155556490179371}. Best is trial 51 with value: 6.631589868973104e-07.\u001b[0m\n",
      "\u001b[32m[I 2023-04-22 11:20:19,533]\u001b[0m Trial 97 finished with value: 0.25182398583813853 and parameters: {'x': 1.4981793290047345}. Best is trial 51 with value: 6.631589868973104e-07.\u001b[0m\n",
      "\u001b[32m[I 2023-04-22 11:20:19,539]\u001b[0m Trial 98 finished with value: 0.21114232368164043 and parameters: {'x': 2.4595022564489106}. Best is trial 51 with value: 6.631589868973104e-07.\u001b[0m\n",
      "\u001b[32m[I 2023-04-22 11:20:19,545]\u001b[0m Trial 99 finished with value: 0.011205215191049459 and parameters: {'x': 1.894145310963333}. Best is trial 51 with value: 6.631589868973104e-07.\u001b[0m\n"
     ]
    },
    {
     "data": {
      "application/vnd.plotly.v1+json": {
       "config": {
        "plotlyServerURL": "https://plot.ly"
       },
       "data": [
        {
         "mode": "markers",
         "name": "Objective Value",
         "type": "scatter",
         "x": [
          0,
          1,
          2,
          3,
          4,
          5,
          6,
          7,
          8,
          9,
          10,
          11,
          12,
          13,
          14,
          15,
          16,
          17,
          18,
          19,
          20,
          21,
          22,
          23,
          24,
          25,
          26,
          27,
          28,
          29,
          30,
          31,
          32,
          33,
          34,
          35,
          36,
          37,
          38,
          39,
          40,
          41,
          42,
          43,
          44,
          45,
          46,
          47,
          48,
          49,
          50,
          51,
          52,
          53,
          54,
          55,
          56,
          57,
          58,
          59,
          60,
          61,
          62,
          63,
          64,
          65,
          66,
          67,
          68,
          69,
          70,
          71,
          72,
          73,
          74,
          75,
          76,
          77,
          78,
          79,
          80,
          81,
          82,
          83,
          84,
          85,
          86,
          87,
          88,
          89,
          90,
          91,
          92,
          93,
          94,
          95,
          96,
          97,
          98,
          99
         ],
         "y": [
          104.53832629377996,
          29.301615717531867,
          34.39234048643106,
          8.333481145942354,
          13.23798957230374,
          0.8665558322778428,
          22.241371249500173,
          33.954887480884466,
          4.821794753662546,
          0.8836254818120076,
          61.3544918461389,
          2.027580588357467,
          1.1859570880331456,
          0.8589780302480486,
          1.0327575249986074,
          23.72765436759854,
          0.8717456344247181,
          10.438868287919934,
          0.17844890497288865,
          2.197503731142908,
          52.19218860980207,
          0.03267863246663943,
          0.42537275871400687,
          7.152130472346286,
          0.2804891323525143,
          8.500617838075637,
          0.09533071821330304,
          8.349325003548055,
          0.16416076398167168,
          15.105152916967288,
          105.25107443512955,
          0.10262854643741343,
          3.316026251773679,
          0.08052555497100115,
          4.508814513912167,
          4.3974583087812205,
          0.34596630314154403,
          3.8475183445332872,
          0.00005346389250414041,
          13.635594718057366,
          8.146726173512546,
          0.17916566329234365,
          0.923584047437596,
          0.02205027017818771,
          0.005258765495526755,
          3.4792444258929835,
          2.349913052263188,
          0.06522060521859954,
          4.671494147382971,
          1.944171958271369,
          2.802001847582521,
          6.631589868973104e-7,
          0.9231227670104952,
          0.002630907651611488,
          2.114444834512028,
          0.026470407132814327,
          1.3367245583754659,
          0.814443898106831,
          0.07266726638981415,
          5.396081048621421,
          1.6858307789963016,
          0.0005755209488325382,
          0.0006749790545806697,
          2.0318525047793528,
          0.8246740702889795,
          0.6703049267442233,
          5.75152487325274,
          0.03394302123062451,
          1.2287146525978196,
          0.023393895486676728,
          2.4199677642235167,
          0.011756515872896797,
          0.2952340218379161,
          0.0652408318463408,
          0.3958703825774755,
          0.50970457594796,
          2.83651986613161,
          0.8558536156186024,
          8.455706741469628,
          1.6128991079876907,
          5.947626107408041,
          0.0033643177491055045,
          0.011558395591494738,
          0.2717385082565022,
          0.00683494589243006,
          0.3051261248892756,
          3.5904572940646267,
          0.6590913747187332,
          4.141464808293367,
          1.423187020176834,
          0.00055158290111364,
          0.06875248939481239,
          0.46938365979636343,
          1.878387310511209,
          0.002785292368734678,
          0.747002543433413,
          1.6497972907697327,
          0.25182398583813853,
          0.21114232368164043,
          0.011205215191049459
         ]
        },
        {
         "name": "Best Value",
         "type": "scatter",
         "x": [
          0,
          1,
          2,
          3,
          4,
          5,
          6,
          7,
          8,
          9,
          10,
          11,
          12,
          13,
          14,
          15,
          16,
          17,
          18,
          19,
          20,
          21,
          22,
          23,
          24,
          25,
          26,
          27,
          28,
          29,
          30,
          31,
          32,
          33,
          34,
          35,
          36,
          37,
          38,
          39,
          40,
          41,
          42,
          43,
          44,
          45,
          46,
          47,
          48,
          49,
          50,
          51,
          52,
          53,
          54,
          55,
          56,
          57,
          58,
          59,
          60,
          61,
          62,
          63,
          64,
          65,
          66,
          67,
          68,
          69,
          70,
          71,
          72,
          73,
          74,
          75,
          76,
          77,
          78,
          79,
          80,
          81,
          82,
          83,
          84,
          85,
          86,
          87,
          88,
          89,
          90,
          91,
          92,
          93,
          94,
          95,
          96,
          97,
          98,
          99
         ],
         "y": [
          104.53832629377996,
          29.301615717531867,
          29.301615717531867,
          8.333481145942354,
          8.333481145942354,
          0.8665558322778428,
          0.8665558322778428,
          0.8665558322778428,
          0.8665558322778428,
          0.8665558322778428,
          0.8665558322778428,
          0.8665558322778428,
          0.8665558322778428,
          0.8589780302480486,
          0.8589780302480486,
          0.8589780302480486,
          0.8589780302480486,
          0.8589780302480486,
          0.17844890497288865,
          0.17844890497288865,
          0.17844890497288865,
          0.03267863246663943,
          0.03267863246663943,
          0.03267863246663943,
          0.03267863246663943,
          0.03267863246663943,
          0.03267863246663943,
          0.03267863246663943,
          0.03267863246663943,
          0.03267863246663943,
          0.03267863246663943,
          0.03267863246663943,
          0.03267863246663943,
          0.03267863246663943,
          0.03267863246663943,
          0.03267863246663943,
          0.03267863246663943,
          0.03267863246663943,
          0.00005346389250414041,
          0.00005346389250414041,
          0.00005346389250414041,
          0.00005346389250414041,
          0.00005346389250414041,
          0.00005346389250414041,
          0.00005346389250414041,
          0.00005346389250414041,
          0.00005346389250414041,
          0.00005346389250414041,
          0.00005346389250414041,
          0.00005346389250414041,
          0.00005346389250414041,
          6.631589868973104e-7,
          6.631589868973104e-7,
          6.631589868973104e-7,
          6.631589868973104e-7,
          6.631589868973104e-7,
          6.631589868973104e-7,
          6.631589868973104e-7,
          6.631589868973104e-7,
          6.631589868973104e-7,
          6.631589868973104e-7,
          6.631589868973104e-7,
          6.631589868973104e-7,
          6.631589868973104e-7,
          6.631589868973104e-7,
          6.631589868973104e-7,
          6.631589868973104e-7,
          6.631589868973104e-7,
          6.631589868973104e-7,
          6.631589868973104e-7,
          6.631589868973104e-7,
          6.631589868973104e-7,
          6.631589868973104e-7,
          6.631589868973104e-7,
          6.631589868973104e-7,
          6.631589868973104e-7,
          6.631589868973104e-7,
          6.631589868973104e-7,
          6.631589868973104e-7,
          6.631589868973104e-7,
          6.631589868973104e-7,
          6.631589868973104e-7,
          6.631589868973104e-7,
          6.631589868973104e-7,
          6.631589868973104e-7,
          6.631589868973104e-7,
          6.631589868973104e-7,
          6.631589868973104e-7,
          6.631589868973104e-7,
          6.631589868973104e-7,
          6.631589868973104e-7,
          6.631589868973104e-7,
          6.631589868973104e-7,
          6.631589868973104e-7,
          6.631589868973104e-7,
          6.631589868973104e-7,
          6.631589868973104e-7,
          6.631589868973104e-7,
          6.631589868973104e-7,
          6.631589868973104e-7
         ]
        }
       ],
       "layout": {
        "template": {
         "data": {
          "bar": [
           {
            "error_x": {
             "color": "#2a3f5f"
            },
            "error_y": {
             "color": "#2a3f5f"
            },
            "marker": {
             "line": {
              "color": "#E5ECF6",
              "width": 0.5
             },
             "pattern": {
              "fillmode": "overlay",
              "size": 10,
              "solidity": 0.2
             }
            },
            "type": "bar"
           }
          ],
          "barpolar": [
           {
            "marker": {
             "line": {
              "color": "#E5ECF6",
              "width": 0.5
             },
             "pattern": {
              "fillmode": "overlay",
              "size": 10,
              "solidity": 0.2
             }
            },
            "type": "barpolar"
           }
          ],
          "carpet": [
           {
            "aaxis": {
             "endlinecolor": "#2a3f5f",
             "gridcolor": "white",
             "linecolor": "white",
             "minorgridcolor": "white",
             "startlinecolor": "#2a3f5f"
            },
            "baxis": {
             "endlinecolor": "#2a3f5f",
             "gridcolor": "white",
             "linecolor": "white",
             "minorgridcolor": "white",
             "startlinecolor": "#2a3f5f"
            },
            "type": "carpet"
           }
          ],
          "choropleth": [
           {
            "colorbar": {
             "outlinewidth": 0,
             "ticks": ""
            },
            "type": "choropleth"
           }
          ],
          "contour": [
           {
            "colorbar": {
             "outlinewidth": 0,
             "ticks": ""
            },
            "colorscale": [
             [
              0,
              "#0d0887"
             ],
             [
              0.1111111111111111,
              "#46039f"
             ],
             [
              0.2222222222222222,
              "#7201a8"
             ],
             [
              0.3333333333333333,
              "#9c179e"
             ],
             [
              0.4444444444444444,
              "#bd3786"
             ],
             [
              0.5555555555555556,
              "#d8576b"
             ],
             [
              0.6666666666666666,
              "#ed7953"
             ],
             [
              0.7777777777777778,
              "#fb9f3a"
             ],
             [
              0.8888888888888888,
              "#fdca26"
             ],
             [
              1,
              "#f0f921"
             ]
            ],
            "type": "contour"
           }
          ],
          "contourcarpet": [
           {
            "colorbar": {
             "outlinewidth": 0,
             "ticks": ""
            },
            "type": "contourcarpet"
           }
          ],
          "heatmap": [
           {
            "colorbar": {
             "outlinewidth": 0,
             "ticks": ""
            },
            "colorscale": [
             [
              0,
              "#0d0887"
             ],
             [
              0.1111111111111111,
              "#46039f"
             ],
             [
              0.2222222222222222,
              "#7201a8"
             ],
             [
              0.3333333333333333,
              "#9c179e"
             ],
             [
              0.4444444444444444,
              "#bd3786"
             ],
             [
              0.5555555555555556,
              "#d8576b"
             ],
             [
              0.6666666666666666,
              "#ed7953"
             ],
             [
              0.7777777777777778,
              "#fb9f3a"
             ],
             [
              0.8888888888888888,
              "#fdca26"
             ],
             [
              1,
              "#f0f921"
             ]
            ],
            "type": "heatmap"
           }
          ],
          "heatmapgl": [
           {
            "colorbar": {
             "outlinewidth": 0,
             "ticks": ""
            },
            "colorscale": [
             [
              0,
              "#0d0887"
             ],
             [
              0.1111111111111111,
              "#46039f"
             ],
             [
              0.2222222222222222,
              "#7201a8"
             ],
             [
              0.3333333333333333,
              "#9c179e"
             ],
             [
              0.4444444444444444,
              "#bd3786"
             ],
             [
              0.5555555555555556,
              "#d8576b"
             ],
             [
              0.6666666666666666,
              "#ed7953"
             ],
             [
              0.7777777777777778,
              "#fb9f3a"
             ],
             [
              0.8888888888888888,
              "#fdca26"
             ],
             [
              1,
              "#f0f921"
             ]
            ],
            "type": "heatmapgl"
           }
          ],
          "histogram": [
           {
            "marker": {
             "pattern": {
              "fillmode": "overlay",
              "size": 10,
              "solidity": 0.2
             }
            },
            "type": "histogram"
           }
          ],
          "histogram2d": [
           {
            "colorbar": {
             "outlinewidth": 0,
             "ticks": ""
            },
            "colorscale": [
             [
              0,
              "#0d0887"
             ],
             [
              0.1111111111111111,
              "#46039f"
             ],
             [
              0.2222222222222222,
              "#7201a8"
             ],
             [
              0.3333333333333333,
              "#9c179e"
             ],
             [
              0.4444444444444444,
              "#bd3786"
             ],
             [
              0.5555555555555556,
              "#d8576b"
             ],
             [
              0.6666666666666666,
              "#ed7953"
             ],
             [
              0.7777777777777778,
              "#fb9f3a"
             ],
             [
              0.8888888888888888,
              "#fdca26"
             ],
             [
              1,
              "#f0f921"
             ]
            ],
            "type": "histogram2d"
           }
          ],
          "histogram2dcontour": [
           {
            "colorbar": {
             "outlinewidth": 0,
             "ticks": ""
            },
            "colorscale": [
             [
              0,
              "#0d0887"
             ],
             [
              0.1111111111111111,
              "#46039f"
             ],
             [
              0.2222222222222222,
              "#7201a8"
             ],
             [
              0.3333333333333333,
              "#9c179e"
             ],
             [
              0.4444444444444444,
              "#bd3786"
             ],
             [
              0.5555555555555556,
              "#d8576b"
             ],
             [
              0.6666666666666666,
              "#ed7953"
             ],
             [
              0.7777777777777778,
              "#fb9f3a"
             ],
             [
              0.8888888888888888,
              "#fdca26"
             ],
             [
              1,
              "#f0f921"
             ]
            ],
            "type": "histogram2dcontour"
           }
          ],
          "mesh3d": [
           {
            "colorbar": {
             "outlinewidth": 0,
             "ticks": ""
            },
            "type": "mesh3d"
           }
          ],
          "parcoords": [
           {
            "line": {
             "colorbar": {
              "outlinewidth": 0,
              "ticks": ""
             }
            },
            "type": "parcoords"
           }
          ],
          "pie": [
           {
            "automargin": true,
            "type": "pie"
           }
          ],
          "scatter": [
           {
            "fillpattern": {
             "fillmode": "overlay",
             "size": 10,
             "solidity": 0.2
            },
            "type": "scatter"
           }
          ],
          "scatter3d": [
           {
            "line": {
             "colorbar": {
              "outlinewidth": 0,
              "ticks": ""
             }
            },
            "marker": {
             "colorbar": {
              "outlinewidth": 0,
              "ticks": ""
             }
            },
            "type": "scatter3d"
           }
          ],
          "scattercarpet": [
           {
            "marker": {
             "colorbar": {
              "outlinewidth": 0,
              "ticks": ""
             }
            },
            "type": "scattercarpet"
           }
          ],
          "scattergeo": [
           {
            "marker": {
             "colorbar": {
              "outlinewidth": 0,
              "ticks": ""
             }
            },
            "type": "scattergeo"
           }
          ],
          "scattergl": [
           {
            "marker": {
             "colorbar": {
              "outlinewidth": 0,
              "ticks": ""
             }
            },
            "type": "scattergl"
           }
          ],
          "scattermapbox": [
           {
            "marker": {
             "colorbar": {
              "outlinewidth": 0,
              "ticks": ""
             }
            },
            "type": "scattermapbox"
           }
          ],
          "scatterpolar": [
           {
            "marker": {
             "colorbar": {
              "outlinewidth": 0,
              "ticks": ""
             }
            },
            "type": "scatterpolar"
           }
          ],
          "scatterpolargl": [
           {
            "marker": {
             "colorbar": {
              "outlinewidth": 0,
              "ticks": ""
             }
            },
            "type": "scatterpolargl"
           }
          ],
          "scatterternary": [
           {
            "marker": {
             "colorbar": {
              "outlinewidth": 0,
              "ticks": ""
             }
            },
            "type": "scatterternary"
           }
          ],
          "surface": [
           {
            "colorbar": {
             "outlinewidth": 0,
             "ticks": ""
            },
            "colorscale": [
             [
              0,
              "#0d0887"
             ],
             [
              0.1111111111111111,
              "#46039f"
             ],
             [
              0.2222222222222222,
              "#7201a8"
             ],
             [
              0.3333333333333333,
              "#9c179e"
             ],
             [
              0.4444444444444444,
              "#bd3786"
             ],
             [
              0.5555555555555556,
              "#d8576b"
             ],
             [
              0.6666666666666666,
              "#ed7953"
             ],
             [
              0.7777777777777778,
              "#fb9f3a"
             ],
             [
              0.8888888888888888,
              "#fdca26"
             ],
             [
              1,
              "#f0f921"
             ]
            ],
            "type": "surface"
           }
          ],
          "table": [
           {
            "cells": {
             "fill": {
              "color": "#EBF0F8"
             },
             "line": {
              "color": "white"
             }
            },
            "header": {
             "fill": {
              "color": "#C8D4E3"
             },
             "line": {
              "color": "white"
             }
            },
            "type": "table"
           }
          ]
         },
         "layout": {
          "annotationdefaults": {
           "arrowcolor": "#2a3f5f",
           "arrowhead": 0,
           "arrowwidth": 1
          },
          "autotypenumbers": "strict",
          "coloraxis": {
           "colorbar": {
            "outlinewidth": 0,
            "ticks": ""
           }
          },
          "colorscale": {
           "diverging": [
            [
             0,
             "#8e0152"
            ],
            [
             0.1,
             "#c51b7d"
            ],
            [
             0.2,
             "#de77ae"
            ],
            [
             0.3,
             "#f1b6da"
            ],
            [
             0.4,
             "#fde0ef"
            ],
            [
             0.5,
             "#f7f7f7"
            ],
            [
             0.6,
             "#e6f5d0"
            ],
            [
             0.7,
             "#b8e186"
            ],
            [
             0.8,
             "#7fbc41"
            ],
            [
             0.9,
             "#4d9221"
            ],
            [
             1,
             "#276419"
            ]
           ],
           "sequential": [
            [
             0,
             "#0d0887"
            ],
            [
             0.1111111111111111,
             "#46039f"
            ],
            [
             0.2222222222222222,
             "#7201a8"
            ],
            [
             0.3333333333333333,
             "#9c179e"
            ],
            [
             0.4444444444444444,
             "#bd3786"
            ],
            [
             0.5555555555555556,
             "#d8576b"
            ],
            [
             0.6666666666666666,
             "#ed7953"
            ],
            [
             0.7777777777777778,
             "#fb9f3a"
            ],
            [
             0.8888888888888888,
             "#fdca26"
            ],
            [
             1,
             "#f0f921"
            ]
           ],
           "sequentialminus": [
            [
             0,
             "#0d0887"
            ],
            [
             0.1111111111111111,
             "#46039f"
            ],
            [
             0.2222222222222222,
             "#7201a8"
            ],
            [
             0.3333333333333333,
             "#9c179e"
            ],
            [
             0.4444444444444444,
             "#bd3786"
            ],
            [
             0.5555555555555556,
             "#d8576b"
            ],
            [
             0.6666666666666666,
             "#ed7953"
            ],
            [
             0.7777777777777778,
             "#fb9f3a"
            ],
            [
             0.8888888888888888,
             "#fdca26"
            ],
            [
             1,
             "#f0f921"
            ]
           ]
          },
          "colorway": [
           "#636efa",
           "#EF553B",
           "#00cc96",
           "#ab63fa",
           "#FFA15A",
           "#19d3f3",
           "#FF6692",
           "#B6E880",
           "#FF97FF",
           "#FECB52"
          ],
          "font": {
           "color": "#2a3f5f"
          },
          "geo": {
           "bgcolor": "white",
           "lakecolor": "white",
           "landcolor": "#E5ECF6",
           "showlakes": true,
           "showland": true,
           "subunitcolor": "white"
          },
          "hoverlabel": {
           "align": "left"
          },
          "hovermode": "closest",
          "mapbox": {
           "style": "light"
          },
          "paper_bgcolor": "white",
          "plot_bgcolor": "#E5ECF6",
          "polar": {
           "angularaxis": {
            "gridcolor": "white",
            "linecolor": "white",
            "ticks": ""
           },
           "bgcolor": "#E5ECF6",
           "radialaxis": {
            "gridcolor": "white",
            "linecolor": "white",
            "ticks": ""
           }
          },
          "scene": {
           "xaxis": {
            "backgroundcolor": "#E5ECF6",
            "gridcolor": "white",
            "gridwidth": 2,
            "linecolor": "white",
            "showbackground": true,
            "ticks": "",
            "zerolinecolor": "white"
           },
           "yaxis": {
            "backgroundcolor": "#E5ECF6",
            "gridcolor": "white",
            "gridwidth": 2,
            "linecolor": "white",
            "showbackground": true,
            "ticks": "",
            "zerolinecolor": "white"
           },
           "zaxis": {
            "backgroundcolor": "#E5ECF6",
            "gridcolor": "white",
            "gridwidth": 2,
            "linecolor": "white",
            "showbackground": true,
            "ticks": "",
            "zerolinecolor": "white"
           }
          },
          "shapedefaults": {
           "line": {
            "color": "#2a3f5f"
           }
          },
          "ternary": {
           "aaxis": {
            "gridcolor": "white",
            "linecolor": "white",
            "ticks": ""
           },
           "baxis": {
            "gridcolor": "white",
            "linecolor": "white",
            "ticks": ""
           },
           "bgcolor": "#E5ECF6",
           "caxis": {
            "gridcolor": "white",
            "linecolor": "white",
            "ticks": ""
           }
          },
          "title": {
           "x": 0.05
          },
          "xaxis": {
           "automargin": true,
           "gridcolor": "white",
           "linecolor": "white",
           "ticks": "",
           "title": {
            "standoff": 15
           },
           "zerolinecolor": "white",
           "zerolinewidth": 2
          },
          "yaxis": {
           "automargin": true,
           "gridcolor": "white",
           "linecolor": "white",
           "ticks": "",
           "title": {
            "standoff": 15
           },
           "zerolinecolor": "white",
           "zerolinewidth": 2
          }
         }
        },
        "title": {
         "text": "Optimization History Plot"
        },
        "xaxis": {
         "title": {
          "text": "Trial"
         }
        },
        "yaxis": {
         "title": {
          "text": "Objective Value"
         }
        }
       }
      }
     },
     "metadata": {},
     "output_type": "display_data"
    }
   ],
   "source": [
    "# A simple optimization problem:\n",
    "\n",
    "# Define objective function to be optimized. Let's minimize (x - 2)^2\n",
    "# Suggest hyperparameter values using trial object. Here, a float value of x is suggested from -10 to 10\n",
    "# Create a study object and invoke the optimize method over 100 trials\n",
    "import optuna\n",
    "\n",
    "def objective(trial):\n",
    "    x = trial.suggest_float('x', -10, 10)\n",
    "    return (x - 2) ** 2\n",
    "\n",
    "study = optuna.create_study()\n",
    "study.optimize(objective, n_trials=100)\n",
    "\n",
    "study.best_params  # E.g. {'x': 2.002108042}\n",
    "\n",
    "optuna.visualization.plot_optimization_history(study)"
   ]
  }
 ],
 "metadata": {
  "kernelspec": {
   "display_name": "Python 3.8.16 ('RL')",
   "language": "python",
   "name": "python3"
  },
  "language_info": {
   "codemirror_mode": {
    "name": "ipython",
    "version": 3
   },
   "file_extension": ".py",
   "mimetype": "text/x-python",
   "name": "python",
   "nbconvert_exporter": "python",
   "pygments_lexer": "ipython3",
   "version": "3.8.16"
  },
  "orig_nbformat": 4,
  "vscode": {
   "interpreter": {
    "hash": "17680b14d7d9a3bae9c4871fddb2c879681776f38d67c6256fcb9de429c7e820"
   }
  }
 },
 "nbformat": 4,
 "nbformat_minor": 2
}
